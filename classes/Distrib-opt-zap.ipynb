{
 "cells": [
  {
   "cell_type": "markdown",
   "metadata": {},
   "source": [
    "$\\boldsymbol{x}\\in\\mathbb{R}^{d}$, kde d$\\in\\mathbb{N}$ je konečné, např. 100. Dál pro $\\boldsymbol{x}$ platí \n",
    "\n",
    "$\\sum_{k=1}^{d}x_{k}=1\\wedge\\left(\\forall k\\in\\left\\{ 1,2,\\ldots,d\\right\\} \\right)\\left(\\boldsymbol{x}_{k}>0\\right)$.\n",
    "\n",
    "Tato podmínka dává $\\boldsymbol{x}$ formu distribuce. \n",
    "\n",
    "V mojí optimalizaci mám data $\\left\\{ \\alpha\\right\\} _{i\\in\\mathbb{N}}\\in\\mathbb{R}^{d}$ bez dalších omezení. Optimalizuju funkcionál\n",
    "\n",
    "$-\\sum_{i}\\boldsymbol{\\alpha}_{i}\\cdot\\boldsymbol{x}$,\n",
    "\n",
    "kde struktura $\\alpha_{i,k}=\\left\\{ \\begin{array}{cc}\n",
    "k\\Delta-\\Delta_{i,0}, & \\text{ pro }k<m_{i},\\\\\n",
    "0, & \\text{ jinak}.\n",
    "\\end{array}\\right.$.\n",
    "\n",
    "To znamená, že $\\boldsymbol{\\alpha}_{i}$ závisí pouze na dvou parametrech $\\Delta_{i}\\in\\mathbb{R}$ a $0\\leq m_{i}\\leq d$."
   ]
  },
  {
   "cell_type": "code",
   "execution_count": 1,
   "metadata": {},
   "outputs": [],
   "source": [
    "# Import path to source directory (bit of a hack in Jupyter)\n",
    "import sys\n",
    "import os\n",
    "pwd = %pwd\n",
    "sys.path.append(os.path.join(pwd, os.path.join('..', 'src')))\n",
    "\n",
    "# Ensure modules are reloaded on any change (very useful when developing code on the fly)\n",
    "%load_ext autoreload\n",
    "%autoreload 2"
   ]
  },
  {
   "cell_type": "code",
   "execution_count": 2,
   "metadata": {},
   "outputs": [],
   "source": [
    "# Import external libraries\n",
    "import numpy as np"
   ]
  },
  {
   "cell_type": "code",
   "execution_count": 3,
   "metadata": {},
   "outputs": [],
   "source": [
    "import objfun_distribution_opt as dopt"
   ]
  },
  {
   "cell_type": "code",
   "execution_count": 4,
   "metadata": {},
   "outputs": [
    {
     "name": "stdout",
     "output_type": "stream",
     "text": [
      "[[ 5.   6.   7.   8.   9.  10.  11.  12.  13.  14.  15.   0.   0.   0.\n",
      "   0. ]\n",
      " [ 2.5  3.5  4.5  5.5  6.5  7.5  8.5  9.5 10.5 11.5  0.   0.   0.   0.\n",
      "   0. ]\n",
      " [ 2.5  3.5  4.5  5.5  6.5  7.5  8.5  9.5 10.5 11.5  0.   0.   0.   0.\n",
      "   0. ]\n",
      " [ 2.5  3.5  4.5  5.5  6.5  7.5  8.5  9.5 10.5 11.5  0.   0.   0.   0.\n",
      "   0. ]\n",
      " [ 2.5  3.5  4.5  5.5  6.5  7.5  8.5  9.5 10.5 11.5  0.   0.   0.   0.\n",
      "   0. ]]\n",
      "-24.462219729767423\n"
     ]
    }
   ],
   "source": [
    "alphas = [{\"r\": 15, \"m\": 10},{\"r\": 12, \"m\": 9.5},{\"r\": 12, \"m\": 9.5},{\"r\": 12, \"m\": 9.5},{\"r\": 12, \"m\": 9.5}]\n",
    "delta = 1\n",
    "d = 15\n",
    "problem = dopt.VolumeDistribution(d, delta, alphas)\n",
    "\n",
    "x = problem.generate_point()\n",
    "# print(x)\n",
    "# x = np.reshape([0 if i != 9 else 1 for i in range(0,d)],(1, d))\n",
    "# print(x)\n",
    "print(problem.alphas)\n",
    "\n",
    "print(problem.evaluate(x))"
   ]
  },
  {
   "cell_type": "markdown",
   "metadata": {},
   "source": [
    "- penalizace\n",
    "- jako $f^{*}$ nastavit nějaké dobré řešení"
   ]
  },
  {
   "cell_type": "markdown",
   "metadata": {},
   "source": [
    "### Heuristics application"
   ]
  },
  {
   "cell_type": "code",
   "execution_count": 5,
   "metadata": {},
   "outputs": [
    {
     "name": "stdout",
     "output_type": "stream",
     "text": [
      "19.63793103448276\n"
     ]
    }
   ],
   "source": [
    "alphas = [{\"r\": 15, \"m\": 10},{\"r\": 5, \"m\": 5},{\"r\": 6, \"m\": 6},{\"r\": 5, \"m\": 5},{\"r\": 7, \"m\": 7}, {\"r\": 20, \"m\": 1},\n",
    "          {\"r\": 0, \"m\": 14},{\"r\": 0, \"m\": 14},{\"r\": 0, \"m\": 14},{\"r\": 0, \"m\": 14},{\"r\": 0, \"m\": 14}]\n",
    "delta = 1\n",
    "d = 15\n",
    "prob_unlimited = dopt.VolumeDistribution(d, delta, alphas)\n",
    "\n",
    "x_star = np.zeros(d)\n",
    "s = 0\n",
    "for a in alphas:\n",
    "    x_star[int(a[\"m\"] / delta)] += a[\"r\"]\n",
    "    s += a[\"r\"]\n",
    "x_star /= s\n",
    "\n",
    "print(prob_unlimited.evaluate(x_star))\n",
    "prob = dopt.VolumeDistribution(d, delta, alphas, prob_unlimited.evaluate(x_star))"
   ]
  },
  {
   "cell_type": "code",
   "execution_count": 6,
   "metadata": {},
   "outputs": [
    {
     "name": "stdout",
     "output_type": "stream",
     "text": [
      "(array([0.05747632, 0.11541648, 0.0330197 , 0.01319321, 0.11594836,\n",
      "       0.02609645, 0.10522941, 0.00143567, 0.09537737, 0.05078093,\n",
      "       0.06460766, 0.05925336, 0.07502259, 0.05680744, 0.13033505]), 18.159270438981835)\n",
      "(array([0.04935248, 0.06586743, 0.08627163, 0.0823446 , 0.02736701,\n",
      "       0.10131935, 0.03804198, 0.07435781, 0.00055191, 0.08182841,\n",
      "       0.10903986, 0.05221351, 0.07424327, 0.0526393 , 0.10456145]), 18.623788497124348)\n",
      "(array([0.03715142, 0.09244947, 0.04479644, 0.02802264, 0.02175653,\n",
      "       0.13466213, 0.07821918, 0.07075063, 0.09624765, 0.0545951 ,\n",
      "       0.0029948 , 0.13617563, 0.09111074, 0.08637367, 0.02469398]), 18.604250565908686)\n",
      "(array([0.11697839, 0.00313837, 0.05253366, 0.01906579, 0.02952076,\n",
      "       0.10497863, 0.08204235, 0.00101969, 0.10993327, 0.12432819,\n",
      "       0.01092838, 0.11882802, 0.11166342, 0.02060663, 0.09443447]), 18.539104403912045)\n",
      "(array([0.02829203, 0.05159816, 0.04050662, 0.10618088, 0.09953108,\n",
      "       0.00445858, 0.12708336, 0.11292571, 0.04483715, 0.08944368,\n",
      "       0.05523279, 0.05070569, 0.10262611, 0.07509047, 0.0114877 ]), 19.353456542826258)\n",
      "(array([0.01226848, 0.01873583, 0.03157347, 0.10776445, 0.08841485,\n",
      "       0.12339485, 0.12870933, 0.05780411, 0.09737618, 0.06705728,\n",
      "       0.11311533, 0.00715374, 0.02561964, 0.09195552, 0.02905696]), 17.368765897448238)\n",
      "(array([0.00873309, 0.09927015, 0.06201809, 0.01170887, 0.11801145,\n",
      "       0.06778882, 0.0452045 , 0.0460605 , 0.10319237, 0.10338333,\n",
      "       0.04111455, 0.08806196, 0.08155805, 0.11182891, 0.01206536]), 18.34207891487494)\n",
      "(array([0.0046346 , 0.02956041, 0.09521088, 0.09286372, 0.01513814,\n",
      "       0.12371976, 0.00369333, 0.12518944, 0.09344334, 0.11429057,\n",
      "       0.0079539 , 0.09645985, 0.05911005, 0.11100121, 0.0277308 ]), 18.561100121379404)\n",
      "(array([0.07501753, 0.07680222, 0.0452436 , 0.05537175, 0.06494074,\n",
      "       0.06208711, 0.1074069 , 0.10130453, 0.07728669, 0.02976282,\n",
      "       0.08871144, 0.00970546, 0.02940867, 0.08679743, 0.09015311]), 19.072950190398707)\n",
      "(array([0.07155388, 0.04963674, 0.06932517, 0.0345897 , 0.09156169,\n",
      "       0.07450577, 0.05047228, 0.06143032, 0.08277166, 0.06290932,\n",
      "       0.09093785, 0.0968712 , 0.07752201, 0.02344625, 0.06246615]), 19.5059086412318)\n",
      "(array([0.04889559, 0.05431131, 0.10755955, 0.06751716, 0.03912127,\n",
      "       0.11727414, 0.03178097, 0.0021566 , 0.03189346, 0.07620236,\n",
      "       0.08524849, 0.11931912, 0.06663212, 0.10528939, 0.04679847]), 19.454511222255967)\n",
      "(array([0.10168773, 0.0814002 , 0.03453038, 0.04094632, 0.03727176,\n",
      "       0.103577  , 0.05414001, 0.09183894, 0.02617227, 0.1021611 ,\n",
      "       0.08154871, 0.1073702 , 0.04656877, 0.02314595, 0.06764064]), 19.557298079211442)\n",
      "(array([0.0916105 , 0.09308754, 0.00043395, 0.08328176, 0.0857461 ,\n",
      "       0.07401249, 0.03186121, 0.07602665, 0.02120131, 0.09039739,\n",
      "       0.10636635, 0.03275664, 0.0846667 , 0.11924513, 0.00930627]), 19.23931057162904)\n",
      "(array([0.09428058, 0.01385955, 0.04705455, 0.07212159, 0.09478164,\n",
      "       0.10028628, 0.03421748, 0.04689114, 0.07167994, 0.11015169,\n",
      "       0.01087519, 0.02177098, 0.07120798, 0.10519936, 0.10562206]), 18.718736374150144)\n",
      "(array([0.00817539, 0.05654174, 0.10172273, 0.04503418, 0.0810511 ,\n",
      "       0.07892093, 0.10945168, 0.06349885, 0.14125532, 0.13998117,\n",
      "       0.04764813, 0.01812127, 0.02854964, 0.00470791, 0.07533998]), 19.355728060980766)\n",
      "(array([0.04289965, 0.01751505, 0.02267388, 0.07347046, 0.07176922,\n",
      "       0.08031581, 0.11474111, 0.00703605, 0.02676597, 0.10121341,\n",
      "       0.10436602, 0.11307503, 0.06006631, 0.05244893, 0.1116431 ]), 15.88957703975077)\n",
      "(array([0.09981234, 0.0600965 , 0.0268321 , 0.0012001 , 0.098248  ,\n",
      "       0.02494345, 0.08294084, 0.05711992, 0.001465  , 0.08147885,\n",
      "       0.11088885, 0.11204973, 0.08865606, 0.08968569, 0.06458257]), 17.589809497701616)\n",
      "(array([0.09452721, 0.07411895, 0.01978486, 0.04232961, 0.07473572,\n",
      "       0.10270526, 0.09251443, 0.02982498, 0.10956611, 0.02749344,\n",
      "       0.01139335, 0.08903526, 0.09722328, 0.03048653, 0.10426101]), 19.45539971562185)\n",
      "(array([0.02815216, 0.00574476, 0.00344903, 0.13635259, 0.04380253,\n",
      "       0.12643405, 0.01603038, 0.08259442, 0.13574427, 0.09493271,\n",
      "       0.05458053, 0.03488287, 0.04438885, 0.13986972, 0.05304113]), 16.3005092490391)\n",
      "(array([0.00282055, 0.06946905, 0.1304446 , 0.05209657, 0.04436069,\n",
      "       0.09509301, 0.0952988 , 0.03239313, 0.12148637, 0.07002743,\n",
      "       0.0599516 , 0.04197077, 0.07539305, 0.00565863, 0.10353575]), 19.475444620683156)\n",
      "(array([0.01391282, 0.07448904, 0.01083312, 0.10009622, 0.09350901,\n",
      "       0.10001688, 0.09951418, 0.01125003, 0.08993503, 0.07962663,\n",
      "       0.03313106, 0.10566726, 0.07455807, 0.00742435, 0.10603629]), 17.885839338128562)\n",
      "(array([0.10972736, 0.0362231 , 0.04471683, 0.02047132, 0.06593984,\n",
      "       0.06438406, 0.08454488, 0.07584769, 0.03663868, 0.10233894,\n",
      "       0.08629575, 0.10598955, 0.07248365, 0.07836489, 0.01603347]), 19.195672173058867)\n",
      "(array([0.05667256, 0.0059131 , 0.00952342, 0.13461035, 0.06482848,\n",
      "       0.0760006 , 0.03424232, 0.02749054, 0.09374732, 0.02314173,\n",
      "       0.13833309, 0.10794153, 0.08783525, 0.07209119, 0.06762853]), 17.13436184065906)\n",
      "(array([0.00591267, 0.0595904 , 0.0854694 , 0.04168351, 0.01531999,\n",
      "       0.06668428, 0.04500543, 0.07267095, 0.10657204, 0.10110878,\n",
      "       0.09329926, 0.03059313, 0.08094056, 0.08923777, 0.10591183]), 16.078692990789765)\n",
      "(array([0.06324588, 0.02572061, 0.07885014, 0.04811272, 0.05033489,\n",
      "       0.09596917, 0.02826828, 0.10423345, 0.03204204, 0.05413938,\n",
      "       0.0410152 , 0.1269053 , 0.13297026, 0.00694616, 0.1112465 ]), 18.501276283897507)\n",
      "(array([0.00374659, 0.00690496, 0.08144329, 0.0473628 , 0.1018011 ,\n",
      "       0.10759538, 0.03948875, 0.03647996, 0.11875604, 0.07235701,\n",
      "       0.11120369, 0.08231266, 0.05322536, 0.08054981, 0.05677261]), 16.691100175918614)\n",
      "(array([0.03444471, 0.04694689, 0.09214595, 0.01251506, 0.11324496,\n",
      "       0.06724027, 0.09282792, 0.08271245, 0.05237615, 0.03555142,\n",
      "       0.04052195, 0.04584967, 0.10473187, 0.10932636, 0.06956438]), 18.319159966059132)\n",
      "(array([0.08219125, 0.03026499, 0.06028885, 0.09432459, 0.04172372,\n",
      "       0.09171653, 0.0685819 , 0.01703135, 0.09796423, 0.04058021,\n",
      "       0.08238722, 0.0847014 , 0.07960854, 0.03043659, 0.09819864]), 19.454165371653705)\n",
      "(array([0.02382109, 0.08642523, 0.087777  , 0.0040463 , 0.07238898,\n",
      "       0.00908668, 0.10592608, 0.10193237, 0.08303081, 0.01953489,\n",
      "       0.02747799, 0.11134049, 0.05570519, 0.08989559, 0.1216113 ]), 18.030359512356327)\n",
      "(array([0.0315474 , 0.05778967, 0.02770232, 0.01569437, 0.12800004,\n",
      "       0.00716914, 0.15653764, 0.10850349, 0.01408   , 0.15851677,\n",
      "       0.03693842, 0.06879608, 0.10899646, 0.008213  , 0.07151519]), 17.30516753920836)\n",
      "(array([0.05090445, 0.09663788, 0.05289193, 0.03869397, 0.07937492,\n",
      "       0.04150204, 0.00673999, 0.0558888 , 0.05027071, 0.0916947 ,\n",
      "       0.00968103, 0.08209795, 0.1082143 , 0.12238602, 0.11302131]), 17.91125199643526)\n",
      "(array([0.07842061, 0.0109561 , 0.00369282, 0.027171  , 0.00160607,\n",
      "       0.12328879, 0.14330279, 0.02985422, 0.09024563, 0.13077312,\n",
      "       0.00041783, 0.13684251, 0.13083446, 0.08941007, 0.00318399]), 16.69407392024346)\n",
      "(array([0.08462736, 0.04776659, 0.08726803, 0.02545629, 0.01055309,\n",
      "       0.04406883, 0.11356587, 0.07164351, 0.1061984 , 0.06706628,\n",
      "       0.10774312, 0.02646031, 0.06728717, 0.03978982, 0.10050533]), 18.735038972349464)\n",
      "(array([0.00609405, 0.02067266, 0.01748013, 0.15388131, 0.06821823,\n",
      "       0.04947063, 0.08632627, 0.03180366, 0.07746017, 0.11614991,\n",
      "       0.02440389, 0.10450608, 0.07691174, 0.03605441, 0.13056689]), 16.8337129482626)\n",
      "(array([0.10036502, 0.02503032, 0.09100199, 0.00383095, 0.07359516,\n",
      "       0.05340399, 0.08656268, 0.06490771, 0.05967298, 0.09003595,\n",
      "       0.09905792, 0.00505263, 0.08371384, 0.06201013, 0.10175872]), 18.59615716957078)\n",
      "(array([0.02404436, 0.08867555, 0.05677367, 0.0306494 , 0.10070754,\n",
      "       0.04033547, 0.08986535, 0.02403516, 0.10017102, 0.112397  ,\n",
      "       0.08884584, 0.09822816, 0.07293678, 0.05609172, 0.01624297]), 18.738975743844534)\n",
      "(array([0.02470786, 0.06959767, 0.08703147, 0.00317675, 0.04117305,\n",
      "       0.05733168, 0.02276707, 0.03861033, 0.1194066 , 0.09481309,\n",
      "       0.05606181, 0.12614068, 0.10583406, 0.12588277, 0.0274651 ]), 17.42721939639034)\n",
      "(array([0.06828711, 0.08155931, 0.05787418, 0.00267027, 0.02922748,\n",
      "       0.02169755, 0.12919126, 0.1297373 , 0.05019198, 0.0981482 ,\n",
      "       0.0570676 , 0.07423227, 0.07008988, 0.08696584, 0.04305977]), 18.489222629982095)\n",
      "(array([0.01467699, 0.00319311, 0.13684704, 0.04029416, 0.08572594,\n",
      "       0.04601264, 0.04811636, 0.06090456, 0.02670946, 0.14878834,\n",
      "       0.09862123, 0.10287542, 0.0677544 , 0.0448976 , 0.07458274]), 18.010104036336298)\n",
      "(array([0.09464437, 0.07155853, 0.05197386, 0.03134264, 0.05674751,\n",
      "       0.01448465, 0.1231461 , 0.0276513 , 0.04253127, 0.0739841 ,\n",
      "       0.00973253, 0.12687975, 0.09163293, 0.09472271, 0.08896776]), 19.344525932721943)\n"
     ]
    }
   ],
   "source": [
    "for i in range(100):\n",
    "    _x = prob.generate_point()\n",
    "    f = prob.evaluate(_x)\n",
    "    if f < prob.get_fstar(): \n",
    "        print((_x, prob.evaluate(_x)))"
   ]
  },
  {
   "cell_type": "markdown",
   "metadata": {},
   "source": [
    "## Random shooting test"
   ]
  },
  {
   "cell_type": "code",
   "execution_count": 7,
   "metadata": {},
   "outputs": [
    {
     "name": "stdout",
     "output_type": "stream",
     "text": [
      "19.388505305728906 [0.11479162 0.00362504 0.04339612 0.01032117 0.12234507 0.07504351\n",
      " 0.06894591 0.12805486 0.0285889  0.05884214 0.11715667 0.13001866\n",
      " 0.02652762 0.06545925 0.00688346] 1\n",
      "18.629958523557754 [1.02686685e-01 4.37050161e-02 7.17367494e-05 9.14752116e-02\n",
      " 1.25906336e-02 9.52142368e-02 1.07481164e-01 6.50699365e-02\n",
      " 1.05510670e-01 6.49467362e-02 7.03403054e-02 5.47504229e-02\n",
      " 7.80419653e-02 1.98167446e-02 8.82985353e-02] 3\n",
      "18.4911382002604 [0.08036023 0.08927617 0.02909367 0.03328954 0.04937944 0.08597013\n",
      " 0.01115777 0.11535217 0.0547501  0.05773755 0.03770533 0.10051045\n",
      " 0.09291429 0.08900132 0.07350184] 1\n",
      "17.481705812345183 [0.03030186 0.0342385  0.02551596 0.13914721 0.02132451 0.0270216\n",
      " 0.10287417 0.04644167 0.14217821 0.09798934 0.07554846 0.06645237\n",
      " 0.04675516 0.02074913 0.12346183] 1\n",
      "19.3604759375584 [0.10625009 0.022465   0.06334106 0.06791809 0.03052666 0.04999562\n",
      " 0.09097477 0.07209506 0.08330009 0.08453209 0.09781399 0.05994213\n",
      " 0.04511775 0.01213783 0.11358977] 1\n",
      "16.249052559323317 [4.01157420e-02 1.15696303e-01 4.38309459e-02 3.40712186e-02\n",
      " 1.30450202e-02 9.44590712e-02 8.21533003e-05 1.64327990e-02\n",
      " 1.67629191e-01 3.16960359e-03 1.03143574e-01 6.02684836e-02\n",
      " 2.84445917e-02 1.18677344e-01 1.60933959e-01] 1\n",
      "19.515807330270174 [0.05095969 0.00734406 0.10244826 0.08601581 0.11197376 0.05010425\n",
      " 0.0575522  0.05382148 0.02976368 0.06325154 0.099129   0.09680997\n",
      " 0.01656915 0.11764394 0.05661319] 2\n",
      "17.904334094404042 [0.00025187 0.05841388 0.03296896 0.10341047 0.07782298 0.08031262\n",
      " 0.04724089 0.09162326 0.15324705 0.0505464  0.05417678 0.11539022\n",
      " 0.00897796 0.0146469  0.11096976] 2\n",
      "18.207054622645458 [0.06987302 0.03857969 0.02342463 0.15185307 0.01324148 0.04666723\n",
      " 0.08324595 0.02313002 0.0287849  0.03071588 0.13346377 0.08991915\n",
      " 0.10999676 0.10280842 0.05429604] 1\n",
      "19.07449996209777 [0.03017956 0.00439948 0.1104021  0.10035311 0.08322784 0.03050279\n",
      " 0.13131937 0.00625515 0.09529818 0.07990341 0.07991317 0.01364464\n",
      " 0.09540521 0.02475228 0.11444371] 1\n"
     ]
    }
   ],
   "source": [
    "from heur_sg import ShootAndGo\n",
    "\n",
    "for i in range(10):\n",
    "    sg = ShootAndGo(prob, 1000, 0)\n",
    "    sg.search()\n",
    "    print(sg.best_y, sg.best_x, sg.neval)"
   ]
  },
  {
   "cell_type": "markdown",
   "metadata": {},
   "source": [
    "### Genetic optimization\n",
    "when using the convex combination, the solution remains in the domain"
   ]
  },
  {
   "cell_type": "code",
   "execution_count": 8,
   "metadata": {},
   "outputs": [
    {
     "name": "stdout",
     "output_type": "stream",
     "text": [
      "[0.06666667 0.06666667 0.06666667 0.06666667 0.06666667 0.06666667\n",
      " 0.06666667 0.06666667 0.06666667 0.06666667 0.06666667 0.06666667\n",
      " 0.06666667 0.06666667 0.06666667]\n"
     ]
    }
   ],
   "source": [
    "import heur_aux\n",
    "\n",
    "normCorr = heur_aux.NormalizeCorrection(prob)\n",
    "xx = np.reshape([1 for i in range(15)],15)\n",
    "print(normCorr.correct(xx))\n",
    "\n",
    "## vectors = np.reshape([[-1 if i == j-1 else (1 if i == j else 0) for i in range(15)]for j in range(1,15)], (14, 15)).T\n",
    "## print(vectors)\n",
    "## print(np.dot(vectors[:,1],  vectors[:,0]))\n",
    "## q, r = np.linalg.qr(vectors, mode = 'complete')\n",
    "## \n",
    "## print(np.dot(q.T,np.dot(q.T,xx)))\n",
    "## print(np.linalg.lstsq(vectors, xx))\n",
    "## og_proj = heur_aux.OGProjectionCorrection(prob, vectors)\n"
   ]
  },
  {
   "cell_type": "code",
   "execution_count": 9,
   "metadata": {},
   "outputs": [],
   "source": [
    "from heur_go import Crossover, UniformMultipoint, RandomCombination"
   ]
  },
  {
   "cell_type": "code",
   "execution_count": 10,
   "metadata": {},
   "outputs": [],
   "source": [
    "from heur_go import GeneticOptimization\n",
    "from heur_fsa import FastSimulatedAnnealing"
   ]
  },
  {
   "cell_type": "code",
   "execution_count": 11,
   "metadata": {},
   "outputs": [],
   "source": [
    "from heur_aux import CauchyMutation, Mutation, NormalizeCorrection, ExtensionCorrection, MirrorCorrection, Correction"
   ]
  },
  {
   "cell_type": "code",
   "execution_count": 12,
   "metadata": {},
   "outputs": [
    {
     "data": {
      "text/plain": [
       "array([0.1811666 , 0.76598425, 0.05284915])"
      ]
     },
     "execution_count": 12,
     "metadata": {},
     "output_type": "execute_result"
    }
   ],
   "source": [
    "cauchy = CauchyMutation(r=1, correction=NormalizeCorrection(prob))\n",
    "cauchy.mutate(np.array([6.12, -4.38,  2.96]))"
   ]
  },
  {
   "cell_type": "code",
   "execution_count": 13,
   "metadata": {},
   "outputs": [
    {
     "data": {
      "text/plain": [
       "{'best_y': 18.375043718103527,\n",
       " 'best_x': array([0.00432032, 0.11148186, 0.05904637, 0.10128313, 0.05893264,\n",
       "        0.02591216, 0.07426627, 0.10872596, 0.00888278, 0.11158645,\n",
       "        0.02872139, 0.01948827, 0.1072412 , 0.06430127, 0.11580994]),\n",
       " 'neval': 3,\n",
       " 'log_data': Empty DataFrame\n",
       " Columns: []\n",
       " Index: []}"
      ]
     },
     "execution_count": 13,
     "metadata": {},
     "output_type": "execute_result"
    }
   ],
   "source": [
    "heur = GeneticOptimization(prob, maxeval=10000, N=10, M=30, Tsel1=0.5, Tsel2=0.1, \n",
    "                           mutation=cauchy, crossover=UniformMultipoint(1))\n",
    "res = heur.search()\n",
    "res"
   ]
  },
  {
   "cell_type": "code",
   "execution_count": 14,
   "metadata": {},
   "outputs": [
    {
     "data": {
      "text/plain": [
       "{'best_y': 17.303640446636724,\n",
       " 'best_x': array([0.01039399, 0.04837845, 0.08019868, 0.0425757 , 0.09251967,\n",
       "        0.05935067, 0.01608627, 0.10088779, 0.11836254, 0.04792441,\n",
       "        0.11700063, 0.03881299, 0.08118422, 0.08477719, 0.06154679]),\n",
       " 'neval': 1,\n",
       " 'log_data': Empty DataFrame\n",
       " Columns: []\n",
       " Index: []}"
      ]
     },
     "execution_count": 14,
     "metadata": {},
     "output_type": "execute_result"
    }
   ],
   "source": [
    "heur = GeneticOptimization(prob, maxeval=10000, N=10, M=30, Tsel1=0.5, Tsel2=0.1, \n",
    "                           mutation=cauchy, crossover=RandomCombination())\n",
    "res = heur.search()\n",
    "res"
   ]
  },
  {
   "cell_type": "code",
   "execution_count": 15,
   "metadata": {},
   "outputs": [
    {
     "data": {
      "text/plain": [
       "1.0"
      ]
     },
     "execution_count": 15,
     "metadata": {},
     "output_type": "execute_result"
    }
   ],
   "source": [
    "sum(res['best_x'])"
   ]
  },
  {
   "cell_type": "code",
   "execution_count": 16,
   "metadata": {},
   "outputs": [
    {
     "data": {
      "text/plain": [
       "{'best_y': 0.14154456091202225,\n",
       " 'best_x': array([1.17737194e-04, 1.14168202e-04, 6.86112897e-05, 1.91750793e-04,\n",
       "        9.42495533e-04, 1.37686644e-04, 4.69849991e-03, 4.56656258e-05,\n",
       "        7.89657384e-05, 7.50267077e-04, 2.26541998e-05, 2.44868330e-04,\n",
       "        1.64851475e-04, 2.14194927e-04, 9.92207583e-01]),\n",
       " 'neval': inf,\n",
       " 'log_data': Empty DataFrame\n",
       " Columns: []\n",
       " Index: []}"
      ]
     },
     "execution_count": 16,
     "metadata": {},
     "output_type": "execute_result"
    }
   ],
   "source": [
    "heur = GeneticOptimization( prob_unlimited, \n",
    "                            maxeval=10000,\n",
    "                            N=10,\n",
    "                            M=30,\n",
    "                            Tsel1=0.5,\n",
    "                            Tsel2=0.1, \n",
    "                            mutation=cauchy, crossover=UniformMultipoint(1) )\n",
    "res = heur.search()\n",
    "res"
   ]
  },
  {
   "cell_type": "code",
   "execution_count": 17,
   "metadata": {},
   "outputs": [
    {
     "data": {
      "text/plain": [
       "{'best_y': 0.05030245494189692,\n",
       " 'best_x': array([1.50412614e-06, 3.27189486e-04, 1.27407732e-05, 6.70489773e-04,\n",
       "        2.93218067e-04, 1.15850566e-04, 4.78765666e-07, 1.27684888e-04,\n",
       "        1.70771151e-05, 1.80221947e-05, 5.84173514e-05, 6.14597157e-05,\n",
       "        1.78036364e-04, 2.77895300e-05, 9.98090041e-01]),\n",
       " 'neval': inf,\n",
       " 'log_data': Empty DataFrame\n",
       " Columns: []\n",
       " Index: []}"
      ]
     },
     "execution_count": 17,
     "metadata": {},
     "output_type": "execute_result"
    }
   ],
   "source": [
    "heur = GeneticOptimization(prob_unlimited, maxeval=10000, N=10, M=30, Tsel1=0.5, Tsel2=0.1, \n",
    "                           mutation=cauchy, crossover=RandomCombination())\n",
    "res = heur.search()\n",
    "res"
   ]
  },
  {
   "cell_type": "code",
   "execution_count": 18,
   "metadata": {},
   "outputs": [
    {
     "data": {
      "text/plain": [
       "[<matplotlib.lines.Line2D at 0x1df17c6ed48>]"
      ]
     },
     "execution_count": 18,
     "metadata": {},
     "output_type": "execute_result"
    }
   ],
   "source": [
    "import matplotlib.pyplot as plt\n",
    "\n",
    "plt.plot(res['best_x'])"
   ]
  },
  {
   "cell_type": "markdown",
   "metadata": {},
   "source": [
    "### Now, let us move to more complex setup of the problem"
   ]
  },
  {
   "cell_type": "code",
   "execution_count": 19,
   "metadata": {},
   "outputs": [
    {
     "data": {
      "image/png": "[encoded data removed]",
      "text/plain": [
       "<Figure size 432x288 with 1 Axes>"
      ]
     },
     "metadata": {
      "needs_background": "light"
     },
     "output_type": "display_data"
    }
   ],
   "source": [
    "np.random.seed(123545)\n",
    "alphas = [{\"r\": int(np.random.gamma(2, 5)), \"m\": int(np.random.gamma(1, 9))} for i in range(300)]\n",
    "\n",
    "for alpha in alphas:\n",
    "    if alpha['m'] >= 25:\n",
    "        alpha['m'] = 25\n",
    "        alpha['r'] = 0\n",
    "    if alpha['r'] - alpha['m'] > 10:\n",
    "        alpha['r'] = 10 + alpha['m']\n",
    "\n",
    "#alphas = [{\"r\": i *2, \"m\": i * 2} for i in range(10)] \n",
    "#alphas = [{\"r\": 3, \"m\": 12}, {\"r\": 2, \"m\": 15}, {\"r\": 0, \"m\": 20} ] \n",
    "fig = plt.figure()\n",
    "ax1 = fig.add_subplot()\n",
    "ax1.set_ylabel('r')\n",
    "ax1.set_xlabel('m')\n",
    "ax1.set_title('data')\n",
    "line, = ax1.plot([alpha['m'] for alpha in alphas], [alpha['r'] for alpha in alphas], 'bo')\n",
    "\n",
    "plt.show()"
   ]
  },
  {
   "cell_type": "code",
   "execution_count": 20,
   "metadata": {},
   "outputs": [
    {
     "name": "stdout",
     "output_type": "stream",
     "text": [
      "10.117857142857126\n"
     ]
    },
    {
     "data": {
      "image/png": "[encoded data removed]",
      "text/plain": [
       "<Figure size 432x288 with 1 Axes>"
      ]
     },
     "metadata": {
      "needs_background": "light"
     },
     "output_type": "display_data"
    }
   ],
   "source": [
    "delta = 1\n",
    "d = int(max([alpha['m'] for alpha in alphas])/delta) + 1\n",
    "prob_unlimited = dopt.VolumeDistribution(d, delta, alphas)\n",
    "prob_pen_unlimited = dopt.VolumeDistributionPenalization(d, delta, alphas, -np.inf, 1e-2)\n",
    "x_star = np.zeros(d)\n",
    "s = 0\n",
    "for a in alphas:\n",
    "    x_star[int(a[\"m\"] / delta)] += a[\"r\"]\n",
    "    s += a[\"r\"]\n",
    "x_star /= s\n",
    "\n",
    "plt.figure()\n",
    "plt.plot(np.cumsum(x_star))\n",
    "print(prob_unlimited.evaluate(x_star))\n",
    "\n",
    "## Setup the problem of volume distribution fitness\n",
    "prob = dopt.VolumeDistribution(d, delta, alphas, prob_unlimited.evaluate(x_star))\n",
    "## Setup the problem with penalization\n",
    "prob_pen = dopt.VolumeDistributionPenalization(d, delta, alphas, prob_unlimited.evaluate(x_star), 0)"
   ]
  },
  {
   "cell_type": "markdown",
   "metadata": {},
   "source": [
    "Problem analysis"
   ]
  },
  {
   "cell_type": "code",
   "execution_count": 22,
   "metadata": {},
   "outputs": [
    {
     "name": "stdout",
     "output_type": "stream",
     "text": [
      "-63.350667887835684\n"
     ]
    },
    {
     "data": {
      "text/plain": [
       "[<matplotlib.lines.Line2D at 0x1df17f59d48>]"
      ]
     },
     "execution_count": 22,
     "metadata": {},
     "output_type": "execute_result"
    },
    {
     "data": {
      "image/png": "[encoded data removed]",
      "text/plain": [
       "<Figure size 432x288 with 1 Axes>"
      ]
     },
     "metadata": {
      "needs_background": "light"
     },
     "output_type": "display_data"
    }
   ],
   "source": [
    "heur = GeneticOptimization( prob_unlimited, \n",
    "                            maxeval=10000,\n",
    "                            N=50,\n",
    "                            M=150,\n",
    "                            Tsel1=0.5,\n",
    "                            Tsel2=0.1, \n",
    "                            mutation=cauchy, crossover=UniformMultipoint(1) )\n",
    "res = heur.search()\n",
    "print(res['best_y'])\n",
    "plt.plot(np.cumsum(res['best_x']))"
   ]
  },
  {
   "cell_type": "code",
   "execution_count": 23,
   "metadata": {},
   "outputs": [
    {
     "name": "stdout",
     "output_type": "stream",
     "text": [
      "-63.804984497054264\n"
     ]
    },
    {
     "data": {
      "text/plain": [
       "[<matplotlib.lines.Line2D at 0x1df17fbbac8>]"
      ]
     },
     "execution_count": 23,
     "metadata": {},
     "output_type": "execute_result"
    },
    {
     "data": {
      "image/png": "[encoded data removed]",
      "text/plain": [
       "<Figure size 432x288 with 1 Axes>"
      ]
     },
     "metadata": {
      "needs_background": "light"
     },
     "output_type": "display_data"
    }
   ],
   "source": [
    "heur = GeneticOptimization( prob_unlimited, \n",
    "                            maxeval=10000,\n",
    "                            N=10,\n",
    "                            M=30,\n",
    "                            Tsel1=0.5,\n",
    "                            Tsel2=0.2, \n",
    "                            mutation=cauchy, crossover=RandomCombination() )\n",
    "res = heur.search()\n",
    "print(res['best_y'])\n",
    "plt.plot(np.cumsum(res['best_x']))"
   ]
  },
  {
   "cell_type": "code",
   "execution_count": 24,
   "metadata": {
    "scrolled": true
   },
   "outputs": [
    {
     "name": "stdout",
     "output_type": "stream",
     "text": [
      "-61.692007641154156\n"
     ]
    },
    {
     "data": {
      "text/plain": [
       "[<matplotlib.lines.Line2D at 0x1df17e29c08>]"
      ]
     },
     "execution_count": 24,
     "metadata": {},
     "output_type": "execute_result"
    },
    {
     "data": {
      "image/png": "[encoded data removed]",
      "text/plain": [
       "<Figure size 432x288 with 1 Axes>"
      ]
     },
     "metadata": {
      "needs_background": "light"
     },
     "output_type": "display_data"
    }
   ],
   "source": [
    "heur = FastSimulatedAnnealing( prob_unlimited,\n",
    "                               maxeval=1000,\n",
    "                               T0=1,\n",
    "                               n0=1, \n",
    "                               alpha=2, \n",
    "                               mutation=cauchy )\n",
    "res = heur.search()\n",
    "print(res['best_y'])\n",
    "plt.plot(np.cumsum(res['best_x']))"
   ]
  },
  {
   "cell_type": "markdown",
   "metadata": {},
   "source": [
    "### utilization of problem with penalization"
   ]
  },
  {
   "cell_type": "code",
   "execution_count": 81,
   "metadata": {},
   "outputs": [
    {
     "data": {
      "application/vnd.jupyter.widget-view+json": {
       "model_id": "3495ecac13134b82a3b21c2bf599f4b6",
       "version_major": 2,
       "version_minor": 0
      },
      "text/plain": [
       "HBox(children=(IntProgress(value=0, description='Testing GO_DOP(p:0.8,Cr:0.01,corrcorrection)', style=Progress…"
      ]
     },
     "metadata": {},
     "output_type": "display_data"
    },
    {
     "name": "stdout",
     "output_type": "stream",
     "text": [
      "\n"
     ]
    },
    {
     "name": "stderr",
     "output_type": "stream",
     "text": [
      "C:\\Users\\Tom\\Anaconda3\\lib\\site-packages\\ipykernel_launcher.py:37: FutureWarning: Sorting because non-concatenation axis is not aligned. A future version\n",
      "of pandas will change to not sort by default.\n",
      "\n",
      "To accept the future behavior, pass 'sort=False'.\n",
      "\n",
      "To retain the current behavior and silence the warning, pass 'sort=True'.\n",
      "\n"
     ]
    },
    {
     "data": {
      "application/vnd.jupyter.widget-view+json": {
       "model_id": "5001be019b8b4fdfa8e2097d54c36cbb",
       "version_major": 2,
       "version_minor": 0
      },
      "text/plain": [
       "HBox(children=(IntProgress(value=0, description='Testing GO_DOP(p:0.1,Cr:0.01,corrcorrection)', style=Progress…"
      ]
     },
     "metadata": {},
     "output_type": "display_data"
    },
    {
     "name": "stdout",
     "output_type": "stream",
     "text": [
      "\n"
     ]
    },
    {
     "data": {
      "application/vnd.jupyter.widget-view+json": {
       "model_id": "ffa25a3cc1a04f3d95b2ed760562c04f",
       "version_major": 2,
       "version_minor": 0
      },
      "text/plain": [
       "HBox(children=(IntProgress(value=0, description='Testing GO_DOP(p:0.01,Cr:0.01,corrcorrection)', style=Progres…"
      ]
     },
     "metadata": {},
     "output_type": "display_data"
    },
    {
     "name": "stdout",
     "output_type": "stream",
     "text": [
      "\n"
     ]
    },
    {
     "data": {
      "application/vnd.jupyter.widget-view+json": {
       "model_id": "0ab5c836770a42ef815535ea65a96498",
       "version_major": 2,
       "version_minor": 0
      },
      "text/plain": [
       "HBox(children=(IntProgress(value=0, description='Testing GO_DOP(p:0.005,Cr:0.01,corrcorrection)', style=Progre…"
      ]
     },
     "metadata": {},
     "output_type": "display_data"
    },
    {
     "name": "stdout",
     "output_type": "stream",
     "text": [
      "\n"
     ]
    },
    {
     "data": {
      "application/vnd.jupyter.widget-view+json": {
       "model_id": "6bc8c6aabf1242a0b4ae1d7e0001893e",
       "version_major": 2,
       "version_minor": 0
      },
      "text/plain": [
       "HBox(children=(IntProgress(value=0, description='Testing GO_DOP(p:0.8,Cr:0.1,corrcorrection)', style=ProgressS…"
      ]
     },
     "metadata": {},
     "output_type": "display_data"
    },
    {
     "name": "stdout",
     "output_type": "stream",
     "text": [
      "\n"
     ]
    },
    {
     "data": {
      "application/vnd.jupyter.widget-view+json": {
       "model_id": "fe66a272555540c2a8bc0cd1857e58f4",
       "version_major": 2,
       "version_minor": 0
      },
      "text/plain": [
       "HBox(children=(IntProgress(value=0, description='Testing GO_DOP(p:0.1,Cr:0.1,corrcorrection)', style=ProgressS…"
      ]
     },
     "metadata": {},
     "output_type": "display_data"
    },
    {
     "name": "stdout",
     "output_type": "stream",
     "text": [
      "\n"
     ]
    },
    {
     "data": {
      "application/vnd.jupyter.widget-view+json": {
       "model_id": "dce8b53dbff5432baf514c93b93293d1",
       "version_major": 2,
       "version_minor": 0
      },
      "text/plain": [
       "HBox(children=(IntProgress(value=0, description='Testing GO_DOP(p:0.01,Cr:0.1,corrcorrection)', style=Progress…"
      ]
     },
     "metadata": {},
     "output_type": "display_data"
    },
    {
     "name": "stdout",
     "output_type": "stream",
     "text": [
      "\n"
     ]
    },
    {
     "data": {
      "application/vnd.jupyter.widget-view+json": {
       "model_id": "9d68a8a3febc492c8f70a8bd555ff10c",
       "version_major": 2,
       "version_minor": 0
      },
      "text/plain": [
       "HBox(children=(IntProgress(value=0, description='Testing GO_DOP(p:0.005,Cr:0.1,corrcorrection)', style=Progres…"
      ]
     },
     "metadata": {},
     "output_type": "display_data"
    },
    {
     "name": "stdout",
     "output_type": "stream",
     "text": [
      "\n"
     ]
    },
    {
     "data": {
      "application/vnd.jupyter.widget-view+json": {
       "model_id": "8268f981c2004651b9d916129de97232",
       "version_major": 2,
       "version_minor": 0
      },
      "text/plain": [
       "HBox(children=(IntProgress(value=0, description='Testing GO_DOP(p:0.8,Cr:0.5,corrcorrection)', style=ProgressS…"
      ]
     },
     "metadata": {},
     "output_type": "display_data"
    },
    {
     "name": "stdout",
     "output_type": "stream",
     "text": [
      "\n"
     ]
    },
    {
     "data": {
      "application/vnd.jupyter.widget-view+json": {
       "model_id": "759fc091f96a47a2ab0d108f7f9fbb62",
       "version_major": 2,
       "version_minor": 0
      },
      "text/plain": [
       "HBox(children=(IntProgress(value=0, description='Testing GO_DOP(p:0.1,Cr:0.5,corrcorrection)', style=ProgressS…"
      ]
     },
     "metadata": {},
     "output_type": "display_data"
    },
    {
     "name": "stdout",
     "output_type": "stream",
     "text": [
      "\n"
     ]
    },
    {
     "data": {
      "application/vnd.jupyter.widget-view+json": {
       "model_id": "37459307014645a080a2cfdbae6df086",
       "version_major": 2,
       "version_minor": 0
      },
      "text/plain": [
       "HBox(children=(IntProgress(value=0, description='Testing GO_DOP(p:0.01,Cr:0.5,corrcorrection)', style=Progress…"
      ]
     },
     "metadata": {},
     "output_type": "display_data"
    },
    {
     "name": "stdout",
     "output_type": "stream",
     "text": [
      "\n"
     ]
    },
    {
     "data": {
      "application/vnd.jupyter.widget-view+json": {
       "model_id": "6c96af00aa16405bbe83163ebe332c38",
       "version_major": 2,
       "version_minor": 0
      },
      "text/plain": [
       "HBox(children=(IntProgress(value=0, description='Testing GO_DOP(p:0.005,Cr:0.5,corrcorrection)', style=Progres…"
      ]
     },
     "metadata": {},
     "output_type": "display_data"
    },
    {
     "name": "stdout",
     "output_type": "stream",
     "text": [
      "\n"
     ]
    },
    {
     "data": {
      "application/vnd.jupyter.widget-view+json": {
       "model_id": "e18e4d1edbac4aa2a85b6a0bbc96f255",
       "version_major": 2,
       "version_minor": 0
      },
      "text/plain": [
       "HBox(children=(IntProgress(value=0, description='Testing GO_DOP(p:0.8,Cr:1,corrcorrection)', style=ProgressSty…"
      ]
     },
     "metadata": {},
     "output_type": "display_data"
    },
    {
     "name": "stdout",
     "output_type": "stream",
     "text": [
      "\n"
     ]
    },
    {
     "data": {
      "application/vnd.jupyter.widget-view+json": {
       "model_id": "7c9bf0b755124527a13062c4d88fcc34",
       "version_major": 2,
       "version_minor": 0
      },
      "text/plain": [
       "HBox(children=(IntProgress(value=0, description='Testing GO_DOP(p:0.1,Cr:1,corrcorrection)', style=ProgressSty…"
      ]
     },
     "metadata": {},
     "output_type": "display_data"
    },
    {
     "name": "stdout",
     "output_type": "stream",
     "text": [
      "\n"
     ]
    },
    {
     "data": {
      "application/vnd.jupyter.widget-view+json": {
       "model_id": "1f95a1449a4845548dd242e15ded3af1",
       "version_major": 2,
       "version_minor": 0
      },
      "text/plain": [
       "HBox(children=(IntProgress(value=0, description='Testing GO_DOP(p:0.01,Cr:1,corrcorrection)', style=ProgressSt…"
      ]
     },
     "metadata": {},
     "output_type": "display_data"
    },
    {
     "name": "stdout",
     "output_type": "stream",
     "text": [
      "\n"
     ]
    },
    {
     "data": {
      "application/vnd.jupyter.widget-view+json": {
       "model_id": "11ae779e9998414fad5591ba887bc34e",
       "version_major": 2,
       "version_minor": 0
      },
      "text/plain": [
       "HBox(children=(IntProgress(value=0, description='Testing GO_DOP(p:0.005,Cr:1,corrcorrection)', style=ProgressS…"
      ]
     },
     "metadata": {},
     "output_type": "display_data"
    },
    {
     "name": "stdout",
     "output_type": "stream",
     "text": [
      "\n"
     ]
    },
    {
     "data": {
      "application/vnd.jupyter.widget-view+json": {
       "model_id": "5d553657d22b436d9dc12629682df190",
       "version_major": 2,
       "version_minor": 0
      },
      "text/plain": [
       "HBox(children=(IntProgress(value=0, description='Testing GO_DOP(p:0.8,Cr:0.01,corrextension)', style=ProgressS…"
      ]
     },
     "metadata": {},
     "output_type": "display_data"
    },
    {
     "name": "stdout",
     "output_type": "stream",
     "text": [
      "\n"
     ]
    },
    {
     "data": {
      "application/vnd.jupyter.widget-view+json": {
       "model_id": "ce93faba2bec4429b2ee3a12c44bae06",
       "version_major": 2,
       "version_minor": 0
      },
      "text/plain": [
       "HBox(children=(IntProgress(value=0, description='Testing GO_DOP(p:0.1,Cr:0.01,corrextension)', style=ProgressS…"
      ]
     },
     "metadata": {},
     "output_type": "display_data"
    },
    {
     "name": "stdout",
     "output_type": "stream",
     "text": [
      "\n"
     ]
    },
    {
     "data": {
      "application/vnd.jupyter.widget-view+json": {
       "model_id": "48e8a0270fc44e74a8a6924a529ef287",
       "version_major": 2,
       "version_minor": 0
      },
      "text/plain": [
       "HBox(children=(IntProgress(value=0, description='Testing GO_DOP(p:0.01,Cr:0.01,corrextension)', style=Progress…"
      ]
     },
     "metadata": {},
     "output_type": "display_data"
    },
    {
     "name": "stdout",
     "output_type": "stream",
     "text": [
      "\n"
     ]
    },
    {
     "data": {
      "application/vnd.jupyter.widget-view+json": {
       "model_id": "38e4887aac874f4aa0e4fcfa909a4b71",
       "version_major": 2,
       "version_minor": 0
      },
      "text/plain": [
       "HBox(children=(IntProgress(value=0, description='Testing GO_DOP(p:0.005,Cr:0.01,corrextension)', style=Progres…"
      ]
     },
     "metadata": {},
     "output_type": "display_data"
    },
    {
     "name": "stdout",
     "output_type": "stream",
     "text": [
      "\n"
     ]
    },
    {
     "data": {
      "application/vnd.jupyter.widget-view+json": {
       "model_id": "022bec1e5b0841df83f4425b82088d20",
       "version_major": 2,
       "version_minor": 0
      },
      "text/plain": [
       "HBox(children=(IntProgress(value=0, description='Testing GO_DOP(p:0.8,Cr:0.1,corrextension)', style=ProgressSt…"
      ]
     },
     "metadata": {},
     "output_type": "display_data"
    },
    {
     "name": "stdout",
     "output_type": "stream",
     "text": [
      "\n"
     ]
    },
    {
     "data": {
      "application/vnd.jupyter.widget-view+json": {
       "model_id": "d3d4fcbfcd1747a48bed526b666eba89",
       "version_major": 2,
       "version_minor": 0
      },
      "text/plain": [
       "HBox(children=(IntProgress(value=0, description='Testing GO_DOP(p:0.1,Cr:0.1,corrextension)', style=ProgressSt…"
      ]
     },
     "metadata": {},
     "output_type": "display_data"
    },
    {
     "name": "stdout",
     "output_type": "stream",
     "text": [
      "\n"
     ]
    },
    {
     "data": {
      "application/vnd.jupyter.widget-view+json": {
       "model_id": "7c69b8644a85432e97c9167be7655eb2",
       "version_major": 2,
       "version_minor": 0
      },
      "text/plain": [
       "HBox(children=(IntProgress(value=0, description='Testing GO_DOP(p:0.01,Cr:0.1,corrextension)', style=ProgressS…"
      ]
     },
     "metadata": {},
     "output_type": "display_data"
    },
    {
     "name": "stdout",
     "output_type": "stream",
     "text": [
      "\n"
     ]
    },
    {
     "data": {
      "application/vnd.jupyter.widget-view+json": {
       "model_id": "6efb403947e447c4aca2cbd1a1c3b999",
       "version_major": 2,
       "version_minor": 0
      },
      "text/plain": [
       "HBox(children=(IntProgress(value=0, description='Testing GO_DOP(p:0.005,Cr:0.1,corrextension)', style=Progress…"
      ]
     },
     "metadata": {},
     "output_type": "display_data"
    },
    {
     "name": "stdout",
     "output_type": "stream",
     "text": [
      "\n"
     ]
    },
    {
     "data": {
      "application/vnd.jupyter.widget-view+json": {
       "model_id": "510ed7d145384be6a058f374e9280ffd",
       "version_major": 2,
       "version_minor": 0
      },
      "text/plain": [
       "HBox(children=(IntProgress(value=0, description='Testing GO_DOP(p:0.8,Cr:0.5,corrextension)', style=ProgressSt…"
      ]
     },
     "metadata": {},
     "output_type": "display_data"
    },
    {
     "name": "stdout",
     "output_type": "stream",
     "text": [
      "\n"
     ]
    },
    {
     "data": {
      "application/vnd.jupyter.widget-view+json": {
       "model_id": "bbffe8ec05c944ccbb5a37fb49c1ee6c",
       "version_major": 2,
       "version_minor": 0
      },
      "text/plain": [
       "HBox(children=(IntProgress(value=0, description='Testing GO_DOP(p:0.1,Cr:0.5,corrextension)', style=ProgressSt…"
      ]
     },
     "metadata": {},
     "output_type": "display_data"
    },
    {
     "name": "stdout",
     "output_type": "stream",
     "text": [
      "\n"
     ]
    },
    {
     "data": {
      "application/vnd.jupyter.widget-view+json": {
       "model_id": "b138a57b608d484687a19a1dead6b96e",
       "version_major": 2,
       "version_minor": 0
      },
      "text/plain": [
       "HBox(children=(IntProgress(value=0, description='Testing GO_DOP(p:0.01,Cr:0.5,corrextension)', style=ProgressS…"
      ]
     },
     "metadata": {},
     "output_type": "display_data"
    },
    {
     "name": "stdout",
     "output_type": "stream",
     "text": [
      "\n"
     ]
    },
    {
     "data": {
      "application/vnd.jupyter.widget-view+json": {
       "model_id": "19057cb1e4f74139b790efa3d7ccc64b",
       "version_major": 2,
       "version_minor": 0
      },
      "text/plain": [
       "HBox(children=(IntProgress(value=0, description='Testing GO_DOP(p:0.005,Cr:0.5,corrextension)', style=Progress…"
      ]
     },
     "metadata": {},
     "output_type": "display_data"
    },
    {
     "name": "stdout",
     "output_type": "stream",
     "text": [
      "\n"
     ]
    },
    {
     "data": {
      "application/vnd.jupyter.widget-view+json": {
       "model_id": "4570625a4666416280d456709b9056c0",
       "version_major": 2,
       "version_minor": 0
      },
      "text/plain": [
       "HBox(children=(IntProgress(value=0, description='Testing GO_DOP(p:0.8,Cr:1,corrextension)', style=ProgressStyl…"
      ]
     },
     "metadata": {},
     "output_type": "display_data"
    },
    {
     "name": "stdout",
     "output_type": "stream",
     "text": [
      "\n"
     ]
    },
    {
     "data": {
      "application/vnd.jupyter.widget-view+json": {
       "model_id": "5f5620730a414853a872d610e38a749e",
       "version_major": 2,
       "version_minor": 0
      },
      "text/plain": [
       "HBox(children=(IntProgress(value=0, description='Testing GO_DOP(p:0.1,Cr:1,corrextension)', style=ProgressStyl…"
      ]
     },
     "metadata": {},
     "output_type": "display_data"
    },
    {
     "name": "stdout",
     "output_type": "stream",
     "text": [
      "\n"
     ]
    },
    {
     "data": {
      "application/vnd.jupyter.widget-view+json": {
       "model_id": "3cb19a99c63a435ea0f39f77caa5fb94",
       "version_major": 2,
       "version_minor": 0
      },
      "text/plain": [
       "HBox(children=(IntProgress(value=0, description='Testing GO_DOP(p:0.01,Cr:1,corrextension)', style=ProgressSty…"
      ]
     },
     "metadata": {},
     "output_type": "display_data"
    },
    {
     "name": "stdout",
     "output_type": "stream",
     "text": [
      "\n"
     ]
    },
    {
     "data": {
      "application/vnd.jupyter.widget-view+json": {
       "model_id": "a4993f909c084b7ba889751182b4b899",
       "version_major": 2,
       "version_minor": 0
      },
      "text/plain": [
       "HBox(children=(IntProgress(value=0, description='Testing GO_DOP(p:0.005,Cr:1,corrextension)', style=ProgressSt…"
      ]
     },
     "metadata": {},
     "output_type": "display_data"
    },
    {
     "name": "stdout",
     "output_type": "stream",
     "text": [
      "\n"
     ]
    },
    {
     "data": {
      "application/vnd.jupyter.widget-view+json": {
       "model_id": "b90f45cb9c034187b564ecc7690d3123",
       "version_major": 2,
       "version_minor": 0
      },
      "text/plain": [
       "HBox(children=(IntProgress(value=0, description='Testing GO_DOP(p:0.8,Cr:0.01,corrmirror)', style=ProgressStyl…"
      ]
     },
     "metadata": {},
     "output_type": "display_data"
    },
    {
     "name": "stdout",
     "output_type": "stream",
     "text": [
      "\n"
     ]
    },
    {
     "data": {
      "application/vnd.jupyter.widget-view+json": {
       "model_id": "9d2ddbdf9021464fb795eda26b23fd0a",
       "version_major": 2,
       "version_minor": 0
      },
      "text/plain": [
       "HBox(children=(IntProgress(value=0, description='Testing GO_DOP(p:0.1,Cr:0.01,corrmirror)', style=ProgressStyl…"
      ]
     },
     "metadata": {},
     "output_type": "display_data"
    },
    {
     "name": "stdout",
     "output_type": "stream",
     "text": [
      "\n"
     ]
    },
    {
     "data": {
      "application/vnd.jupyter.widget-view+json": {
       "model_id": "235d3702304f4de797b4e9a0182617c2",
       "version_major": 2,
       "version_minor": 0
      },
      "text/plain": [
       "HBox(children=(IntProgress(value=0, description='Testing GO_DOP(p:0.01,Cr:0.01,corrmirror)', style=ProgressSty…"
      ]
     },
     "metadata": {},
     "output_type": "display_data"
    },
    {
     "name": "stdout",
     "output_type": "stream",
     "text": [
      "\n"
     ]
    },
    {
     "data": {
      "application/vnd.jupyter.widget-view+json": {
       "model_id": "7b1e63d6b63746b68b512e494b648616",
       "version_major": 2,
       "version_minor": 0
      },
      "text/plain": [
       "HBox(children=(IntProgress(value=0, description='Testing GO_DOP(p:0.005,Cr:0.01,corrmirror)', style=ProgressSt…"
      ]
     },
     "metadata": {},
     "output_type": "display_data"
    },
    {
     "name": "stdout",
     "output_type": "stream",
     "text": [
      "\n"
     ]
    },
    {
     "data": {
      "application/vnd.jupyter.widget-view+json": {
       "model_id": "5fbb9b02be844ccebfff2f7bf953c8fe",
       "version_major": 2,
       "version_minor": 0
      },
      "text/plain": [
       "HBox(children=(IntProgress(value=0, description='Testing GO_DOP(p:0.8,Cr:0.1,corrmirror)', style=ProgressStyle…"
      ]
     },
     "metadata": {},
     "output_type": "display_data"
    },
    {
     "name": "stdout",
     "output_type": "stream",
     "text": [
      "\n"
     ]
    },
    {
     "data": {
      "application/vnd.jupyter.widget-view+json": {
       "model_id": "bcbbaa16519f4c238ab473c0dcdd88a7",
       "version_major": 2,
       "version_minor": 0
      },
      "text/plain": [
       "HBox(children=(IntProgress(value=0, description='Testing GO_DOP(p:0.1,Cr:0.1,corrmirror)', style=ProgressStyle…"
      ]
     },
     "metadata": {},
     "output_type": "display_data"
    },
    {
     "name": "stdout",
     "output_type": "stream",
     "text": [
      "\n"
     ]
    },
    {
     "data": {
      "application/vnd.jupyter.widget-view+json": {
       "model_id": "c988a3e6bc154c1ba6c4d0cfd08c844e",
       "version_major": 2,
       "version_minor": 0
      },
      "text/plain": [
       "HBox(children=(IntProgress(value=0, description='Testing GO_DOP(p:0.01,Cr:0.1,corrmirror)', style=ProgressStyl…"
      ]
     },
     "metadata": {},
     "output_type": "display_data"
    },
    {
     "name": "stdout",
     "output_type": "stream",
     "text": [
      "\n"
     ]
    },
    {
     "data": {
      "application/vnd.jupyter.widget-view+json": {
       "model_id": "d6cf4d41128e44e1a85038d9243c8ca0",
       "version_major": 2,
       "version_minor": 0
      },
      "text/plain": [
       "HBox(children=(IntProgress(value=0, description='Testing GO_DOP(p:0.005,Cr:0.1,corrmirror)', style=ProgressSty…"
      ]
     },
     "metadata": {},
     "output_type": "display_data"
    },
    {
     "name": "stdout",
     "output_type": "stream",
     "text": [
      "\n"
     ]
    },
    {
     "data": {
      "application/vnd.jupyter.widget-view+json": {
       "model_id": "0f554e8ed65c47b29dd630a79c1e1054",
       "version_major": 2,
       "version_minor": 0
      },
      "text/plain": [
       "HBox(children=(IntProgress(value=0, description='Testing GO_DOP(p:0.8,Cr:0.5,corrmirror)', style=ProgressStyle…"
      ]
     },
     "metadata": {},
     "output_type": "display_data"
    },
    {
     "name": "stdout",
     "output_type": "stream",
     "text": [
      "\n"
     ]
    },
    {
     "data": {
      "application/vnd.jupyter.widget-view+json": {
       "model_id": "c87c2c49b06447c1802c0aed1b0287d8",
       "version_major": 2,
       "version_minor": 0
      },
      "text/plain": [
       "HBox(children=(IntProgress(value=0, description='Testing GO_DOP(p:0.1,Cr:0.5,corrmirror)', style=ProgressStyle…"
      ]
     },
     "metadata": {},
     "output_type": "display_data"
    },
    {
     "name": "stdout",
     "output_type": "stream",
     "text": [
      "\n"
     ]
    },
    {
     "data": {
      "application/vnd.jupyter.widget-view+json": {
       "model_id": "e1fb76bf516a418d9d85f204fc3d4801",
       "version_major": 2,
       "version_minor": 0
      },
      "text/plain": [
       "HBox(children=(IntProgress(value=0, description='Testing GO_DOP(p:0.01,Cr:0.5,corrmirror)', style=ProgressStyl…"
      ]
     },
     "metadata": {},
     "output_type": "display_data"
    },
    {
     "name": "stdout",
     "output_type": "stream",
     "text": [
      "\n"
     ]
    },
    {
     "data": {
      "application/vnd.jupyter.widget-view+json": {
       "model_id": "dd470ae2211f4575a569ec1feb265a96",
       "version_major": 2,
       "version_minor": 0
      },
      "text/plain": [
       "HBox(children=(IntProgress(value=0, description='Testing GO_DOP(p:0.005,Cr:0.5,corrmirror)', style=ProgressSty…"
      ]
     },
     "metadata": {},
     "output_type": "display_data"
    },
    {
     "name": "stdout",
     "output_type": "stream",
     "text": [
      "\n"
     ]
    },
    {
     "data": {
      "application/vnd.jupyter.widget-view+json": {
       "model_id": "47a9394989104075a19fef60b5c0c04b",
       "version_major": 2,
       "version_minor": 0
      },
      "text/plain": [
       "HBox(children=(IntProgress(value=0, description='Testing GO_DOP(p:0.8,Cr:1,corrmirror)', style=ProgressStyle(d…"
      ]
     },
     "metadata": {},
     "output_type": "display_data"
    },
    {
     "name": "stdout",
     "output_type": "stream",
     "text": [
      "\n"
     ]
    },
    {
     "data": {
      "application/vnd.jupyter.widget-view+json": {
       "model_id": "31e2342e7003456197f34a02321b15cc",
       "version_major": 2,
       "version_minor": 0
      },
      "text/plain": [
       "HBox(children=(IntProgress(value=0, description='Testing GO_DOP(p:0.1,Cr:1,corrmirror)', style=ProgressStyle(d…"
      ]
     },
     "metadata": {},
     "output_type": "display_data"
    },
    {
     "name": "stdout",
     "output_type": "stream",
     "text": [
      "\n"
     ]
    },
    {
     "data": {
      "application/vnd.jupyter.widget-view+json": {
       "model_id": "2705e058b63849739506432ee478b5da",
       "version_major": 2,
       "version_minor": 0
      },
      "text/plain": [
       "HBox(children=(IntProgress(value=0, description='Testing GO_DOP(p:0.01,Cr:1,corrmirror)', style=ProgressStyle(…"
      ]
     },
     "metadata": {},
     "output_type": "display_data"
    },
    {
     "name": "stdout",
     "output_type": "stream",
     "text": [
      "\n"
     ]
    },
    {
     "data": {
      "application/vnd.jupyter.widget-view+json": {
       "model_id": "df0ab2461e0f44c7a4f1f96186607c55",
       "version_major": 2,
       "version_minor": 0
      },
      "text/plain": [
       "HBox(children=(IntProgress(value=0, description='Testing GO_DOP(p:0.005,Cr:1,corrmirror)', style=ProgressStyle…"
      ]
     },
     "metadata": {},
     "output_type": "display_data"
    },
    {
     "name": "stdout",
     "output_type": "stream",
     "text": [
      "\n"
     ]
    }
   ],
   "source": [
    "NUM_RUNS = 100\n",
    "resultsPen = pd.DataFrame()\n",
    "runs = []\n",
    "corrections = [ {\"name\": \"correction\", 'corr': Correction(prob_pen)},\n",
    "                {\"name\": \"extension\", 'corr': ExtensionCorrection(prob_pen)},\n",
    "                {\"name\": \"mirror\", 'corr': MirrorCorrection(prob_pen)} ]\n",
    "for correction in corrections: \n",
    "    for Cr in [0.01, 0.1, 0.5, 1]:\n",
    "        for p in [0.8, 0.1, 0.01, 0.005]:\n",
    "            prob_pen_unlimited.penalization = p\n",
    "            heur_name = 'GO_DOP(p:{},Cr:{},corr{})'.format(p, Cr, correction['name'])\n",
    "            for i in tqdm(range(NUM_RUNS), 'Testing {}'.format(heur_name)):\n",
    "                run = GeneticOptimization( prob_pen_unlimited, \n",
    "                                            maxeval=1000,\n",
    "                                            N=50,\n",
    "                                            M=100,\n",
    "                                            Tsel1=0.5,\n",
    "                                            Tsel2=0.2, \n",
    "                                            mutation=CauchyMutation(r=Cr, correction=correction['corr']),\n",
    "                                            crossover=UniformMultipoint(1) ).search()\n",
    "                run['run'] = i\n",
    "                run['heur'] = heur_name\n",
    "                run['penalization'] = p\n",
    "                run['correction'] = correction['name']\n",
    "                run['Cr'] = Cr\n",
    "                runs.append(run)\n",
    "\n",
    "            res_df = pd.DataFrame(runs,\n",
    "                                  columns=['heur',\n",
    "                                           'penalization', \n",
    "                                           'correction', \n",
    "                                           'Cr',\n",
    "                                           'run',\n",
    "                                           'best_x',\n",
    "                                           'best_y',\n",
    "                                           'neval'] )\n",
    "            resultsPen = pd.concat([results, res_df], axis=0)\n"
   ]
  },
  {
   "cell_type": "code",
   "execution_count": 83,
   "metadata": {},
   "outputs": [
    {
     "data": {
      "text/html": [
       "<div>\n",
       "<style scoped>\n",
       "    .dataframe tbody tr th:only-of-type {\n",
       "        vertical-align: middle;\n",
       "    }\n",
       "\n",
       "    .dataframe tbody tr th {\n",
       "        vertical-align: top;\n",
       "    }\n",
       "\n",
       "    .dataframe thead th {\n",
       "        text-align: right;\n",
       "    }\n",
       "</style>\n",
       "<table border=\"1\" class=\"dataframe\">\n",
       "  <thead>\n",
       "    <tr style=\"text-align: right;\">\n",
       "      <th></th>\n",
       "      <th>penalization</th>\n",
       "      <th>heur</th>\n",
       "      <th>admissibility_rate</th>\n",
       "      <th>avg_sum</th>\n",
       "    </tr>\n",
       "  </thead>\n",
       "  <tbody>\n",
       "    <tr>\n",
       "      <td>0</td>\n",
       "      <td>0.005</td>\n",
       "      <td>GO_DOP(p:0.005,Cr:0.01,corrcorrection)</td>\n",
       "      <td>0.00</td>\n",
       "      <td>10.456961</td>\n",
       "    </tr>\n",
       "    <tr>\n",
       "      <td>1</td>\n",
       "      <td>0.005</td>\n",
       "      <td>GO_DOP(p:0.005,Cr:0.01,corrextension)</td>\n",
       "      <td>0.00</td>\n",
       "      <td>12.106172</td>\n",
       "    </tr>\n",
       "    <tr>\n",
       "      <td>2</td>\n",
       "      <td>0.005</td>\n",
       "      <td>GO_DOP(p:0.005,Cr:0.01,corrmirror)</td>\n",
       "      <td>0.00</td>\n",
       "      <td>10.261784</td>\n",
       "    </tr>\n",
       "    <tr>\n",
       "      <td>3</td>\n",
       "      <td>0.005</td>\n",
       "      <td>GO_DOP(p:0.005,Cr:0.1,corrcorrection)</td>\n",
       "      <td>0.00</td>\n",
       "      <td>13.437681</td>\n",
       "    </tr>\n",
       "    <tr>\n",
       "      <td>24</td>\n",
       "      <td>0.100</td>\n",
       "      <td>GO_DOP(p:0.1,Cr:0.01,corrcorrection)</td>\n",
       "      <td>0.00</td>\n",
       "      <td>3.844908</td>\n",
       "    </tr>\n",
       "    <tr>\n",
       "      <td>14</td>\n",
       "      <td>0.010</td>\n",
       "      <td>GO_DOP(p:0.01,Cr:0.01,corrmirror)</td>\n",
       "      <td>0.00</td>\n",
       "      <td>4.007862</td>\n",
       "    </tr>\n",
       "    <tr>\n",
       "      <td>12</td>\n",
       "      <td>0.010</td>\n",
       "      <td>GO_DOP(p:0.01,Cr:0.01,corrcorrection)</td>\n",
       "      <td>0.00</td>\n",
       "      <td>3.935375</td>\n",
       "    </tr>\n",
       "    <tr>\n",
       "      <td>26</td>\n",
       "      <td>0.100</td>\n",
       "      <td>GO_DOP(p:0.1,Cr:0.01,corrmirror)</td>\n",
       "      <td>0.18</td>\n",
       "      <td>3.846251</td>\n",
       "    </tr>\n",
       "    <tr>\n",
       "      <td>36</td>\n",
       "      <td>0.800</td>\n",
       "      <td>GO_DOP(p:0.8,Cr:0.01,corrcorrection)</td>\n",
       "      <td>0.25</td>\n",
       "      <td>3.846112</td>\n",
       "    </tr>\n",
       "    <tr>\n",
       "      <td>15</td>\n",
       "      <td>0.010</td>\n",
       "      <td>GO_DOP(p:0.01,Cr:0.1,corrcorrection)</td>\n",
       "      <td>0.31</td>\n",
       "      <td>4.093479</td>\n",
       "    </tr>\n",
       "    <tr>\n",
       "      <td>37</td>\n",
       "      <td>0.800</td>\n",
       "      <td>GO_DOP(p:0.8,Cr:0.01,corrextension)</td>\n",
       "      <td>0.32</td>\n",
       "      <td>3.846154</td>\n",
       "    </tr>\n",
       "    <tr>\n",
       "      <td>6</td>\n",
       "      <td>0.005</td>\n",
       "      <td>GO_DOP(p:0.005,Cr:0.5,corrcorrection)</td>\n",
       "      <td>0.32</td>\n",
       "      <td>5.682011</td>\n",
       "    </tr>\n",
       "    <tr>\n",
       "      <td>10</td>\n",
       "      <td>0.005</td>\n",
       "      <td>GO_DOP(p:0.005,Cr:1,corrextension)</td>\n",
       "      <td>0.33</td>\n",
       "      <td>3.846154</td>\n",
       "    </tr>\n",
       "    <tr>\n",
       "      <td>17</td>\n",
       "      <td>0.010</td>\n",
       "      <td>GO_DOP(p:0.01,Cr:0.1,corrmirror)</td>\n",
       "      <td>0.33</td>\n",
       "      <td>3.846154</td>\n",
       "    </tr>\n",
       "    <tr>\n",
       "      <td>34</td>\n",
       "      <td>0.100</td>\n",
       "      <td>GO_DOP(p:0.1,Cr:1,corrextension)</td>\n",
       "      <td>0.34</td>\n",
       "      <td>3.846154</td>\n",
       "    </tr>\n",
       "    <tr>\n",
       "      <td>16</td>\n",
       "      <td>0.010</td>\n",
       "      <td>GO_DOP(p:0.01,Cr:0.1,corrextension)</td>\n",
       "      <td>0.34</td>\n",
       "      <td>3.846154</td>\n",
       "    </tr>\n",
       "    <tr>\n",
       "      <td>9</td>\n",
       "      <td>0.005</td>\n",
       "      <td>GO_DOP(p:0.005,Cr:1,corrcorrection)</td>\n",
       "      <td>0.35</td>\n",
       "      <td>4.888048</td>\n",
       "    </tr>\n",
       "    <tr>\n",
       "      <td>40</td>\n",
       "      <td>0.800</td>\n",
       "      <td>GO_DOP(p:0.8,Cr:0.1,corrextension)</td>\n",
       "      <td>0.35</td>\n",
       "      <td>3.846154</td>\n",
       "    </tr>\n",
       "    <tr>\n",
       "      <td>11</td>\n",
       "      <td>0.005</td>\n",
       "      <td>GO_DOP(p:0.005,Cr:1,corrmirror)</td>\n",
       "      <td>0.36</td>\n",
       "      <td>3.846154</td>\n",
       "    </tr>\n",
       "    <tr>\n",
       "      <td>21</td>\n",
       "      <td>0.010</td>\n",
       "      <td>GO_DOP(p:0.01,Cr:1,corrcorrection)</td>\n",
       "      <td>0.37</td>\n",
       "      <td>3.846154</td>\n",
       "    </tr>\n",
       "    <tr>\n",
       "      <td>44</td>\n",
       "      <td>0.800</td>\n",
       "      <td>GO_DOP(p:0.8,Cr:0.5,corrmirror)</td>\n",
       "      <td>0.37</td>\n",
       "      <td>3.846154</td>\n",
       "    </tr>\n",
       "    <tr>\n",
       "      <td>4</td>\n",
       "      <td>0.005</td>\n",
       "      <td>GO_DOP(p:0.005,Cr:0.1,corrextension)</td>\n",
       "      <td>0.38</td>\n",
       "      <td>3.846154</td>\n",
       "    </tr>\n",
       "    <tr>\n",
       "      <td>39</td>\n",
       "      <td>0.800</td>\n",
       "      <td>GO_DOP(p:0.8,Cr:0.1,corrcorrection)</td>\n",
       "      <td>0.39</td>\n",
       "      <td>3.846154</td>\n",
       "    </tr>\n",
       "    <tr>\n",
       "      <td>13</td>\n",
       "      <td>0.010</td>\n",
       "      <td>GO_DOP(p:0.01,Cr:0.01,corrextension)</td>\n",
       "      <td>0.39</td>\n",
       "      <td>3.848019</td>\n",
       "    </tr>\n",
       "    <tr>\n",
       "      <td>31</td>\n",
       "      <td>0.100</td>\n",
       "      <td>GO_DOP(p:0.1,Cr:0.5,corrextension)</td>\n",
       "      <td>0.39</td>\n",
       "      <td>3.846154</td>\n",
       "    </tr>\n",
       "    <tr>\n",
       "      <td>18</td>\n",
       "      <td>0.010</td>\n",
       "      <td>GO_DOP(p:0.01,Cr:0.5,corrcorrection)</td>\n",
       "      <td>0.40</td>\n",
       "      <td>3.857311</td>\n",
       "    </tr>\n",
       "    <tr>\n",
       "      <td>19</td>\n",
       "      <td>0.010</td>\n",
       "      <td>GO_DOP(p:0.01,Cr:0.5,corrextension)</td>\n",
       "      <td>0.41</td>\n",
       "      <td>3.846154</td>\n",
       "    </tr>\n",
       "    <tr>\n",
       "      <td>43</td>\n",
       "      <td>0.800</td>\n",
       "      <td>GO_DOP(p:0.8,Cr:0.5,corrextension)</td>\n",
       "      <td>0.41</td>\n",
       "      <td>3.846154</td>\n",
       "    </tr>\n",
       "    <tr>\n",
       "      <td>42</td>\n",
       "      <td>0.800</td>\n",
       "      <td>GO_DOP(p:0.8,Cr:0.5,corrcorrection)</td>\n",
       "      <td>0.41</td>\n",
       "      <td>3.846154</td>\n",
       "    </tr>\n",
       "    <tr>\n",
       "      <td>32</td>\n",
       "      <td>0.100</td>\n",
       "      <td>GO_DOP(p:0.1,Cr:0.5,corrmirror)</td>\n",
       "      <td>0.41</td>\n",
       "      <td>3.846154</td>\n",
       "    </tr>\n",
       "    <tr>\n",
       "      <td>38</td>\n",
       "      <td>0.800</td>\n",
       "      <td>GO_DOP(p:0.8,Cr:0.01,corrmirror)</td>\n",
       "      <td>0.42</td>\n",
       "      <td>3.846191</td>\n",
       "    </tr>\n",
       "    <tr>\n",
       "      <td>33</td>\n",
       "      <td>0.100</td>\n",
       "      <td>GO_DOP(p:0.1,Cr:1,corrcorrection)</td>\n",
       "      <td>0.42</td>\n",
       "      <td>3.846154</td>\n",
       "    </tr>\n",
       "    <tr>\n",
       "      <td>47</td>\n",
       "      <td>0.800</td>\n",
       "      <td>GO_DOP(p:0.8,Cr:1,corrmirror)</td>\n",
       "      <td>0.42</td>\n",
       "      <td>3.846154</td>\n",
       "    </tr>\n",
       "    <tr>\n",
       "      <td>28</td>\n",
       "      <td>0.100</td>\n",
       "      <td>GO_DOP(p:0.1,Cr:0.1,corrextension)</td>\n",
       "      <td>0.42</td>\n",
       "      <td>3.846154</td>\n",
       "    </tr>\n",
       "    <tr>\n",
       "      <td>25</td>\n",
       "      <td>0.100</td>\n",
       "      <td>GO_DOP(p:0.1,Cr:0.01,corrextension)</td>\n",
       "      <td>0.42</td>\n",
       "      <td>3.846154</td>\n",
       "    </tr>\n",
       "    <tr>\n",
       "      <td>22</td>\n",
       "      <td>0.010</td>\n",
       "      <td>GO_DOP(p:0.01,Cr:1,corrextension)</td>\n",
       "      <td>0.42</td>\n",
       "      <td>3.846154</td>\n",
       "    </tr>\n",
       "    <tr>\n",
       "      <td>8</td>\n",
       "      <td>0.005</td>\n",
       "      <td>GO_DOP(p:0.005,Cr:0.5,corrmirror)</td>\n",
       "      <td>0.42</td>\n",
       "      <td>3.846154</td>\n",
       "    </tr>\n",
       "    <tr>\n",
       "      <td>30</td>\n",
       "      <td>0.100</td>\n",
       "      <td>GO_DOP(p:0.1,Cr:0.5,corrcorrection)</td>\n",
       "      <td>0.42</td>\n",
       "      <td>3.846154</td>\n",
       "    </tr>\n",
       "    <tr>\n",
       "      <td>41</td>\n",
       "      <td>0.800</td>\n",
       "      <td>GO_DOP(p:0.8,Cr:0.1,corrmirror)</td>\n",
       "      <td>0.43</td>\n",
       "      <td>3.846154</td>\n",
       "    </tr>\n",
       "    <tr>\n",
       "      <td>45</td>\n",
       "      <td>0.800</td>\n",
       "      <td>GO_DOP(p:0.8,Cr:1,corrcorrection)</td>\n",
       "      <td>0.43</td>\n",
       "      <td>3.846154</td>\n",
       "    </tr>\n",
       "    <tr>\n",
       "      <td>35</td>\n",
       "      <td>0.100</td>\n",
       "      <td>GO_DOP(p:0.1,Cr:1,corrmirror)</td>\n",
       "      <td>0.44</td>\n",
       "      <td>3.846154</td>\n",
       "    </tr>\n",
       "    <tr>\n",
       "      <td>23</td>\n",
       "      <td>0.010</td>\n",
       "      <td>GO_DOP(p:0.01,Cr:1,corrmirror)</td>\n",
       "      <td>0.45</td>\n",
       "      <td>3.846154</td>\n",
       "    </tr>\n",
       "    <tr>\n",
       "      <td>29</td>\n",
       "      <td>0.100</td>\n",
       "      <td>GO_DOP(p:0.1,Cr:0.1,corrmirror)</td>\n",
       "      <td>0.46</td>\n",
       "      <td>3.846154</td>\n",
       "    </tr>\n",
       "    <tr>\n",
       "      <td>27</td>\n",
       "      <td>0.100</td>\n",
       "      <td>GO_DOP(p:0.1,Cr:0.1,corrcorrection)</td>\n",
       "      <td>0.46</td>\n",
       "      <td>3.846219</td>\n",
       "    </tr>\n",
       "    <tr>\n",
       "      <td>46</td>\n",
       "      <td>0.800</td>\n",
       "      <td>GO_DOP(p:0.8,Cr:1,corrextension)</td>\n",
       "      <td>0.47</td>\n",
       "      <td>3.846154</td>\n",
       "    </tr>\n",
       "    <tr>\n",
       "      <td>7</td>\n",
       "      <td>0.005</td>\n",
       "      <td>GO_DOP(p:0.005,Cr:0.5,corrextension)</td>\n",
       "      <td>0.47</td>\n",
       "      <td>3.846154</td>\n",
       "    </tr>\n",
       "    <tr>\n",
       "      <td>5</td>\n",
       "      <td>0.005</td>\n",
       "      <td>GO_DOP(p:0.005,Cr:0.1,corrmirror)</td>\n",
       "      <td>0.47</td>\n",
       "      <td>3.846154</td>\n",
       "    </tr>\n",
       "    <tr>\n",
       "      <td>20</td>\n",
       "      <td>0.010</td>\n",
       "      <td>GO_DOP(p:0.01,Cr:0.5,corrmirror)</td>\n",
       "      <td>0.48</td>\n",
       "      <td>3.846154</td>\n",
       "    </tr>\n",
       "  </tbody>\n",
       "</table>\n",
       "</div>"
      ],
      "text/plain": [
       "    penalization                                    heur  admissibility_rate  \\\n",
       "0          0.005  GO_DOP(p:0.005,Cr:0.01,corrcorrection)                0.00   \n",
       "1          0.005   GO_DOP(p:0.005,Cr:0.01,corrextension)                0.00   \n",
       "2          0.005      GO_DOP(p:0.005,Cr:0.01,corrmirror)                0.00   \n",
       "3          0.005   GO_DOP(p:0.005,Cr:0.1,corrcorrection)                0.00   \n",
       "24         0.100    GO_DOP(p:0.1,Cr:0.01,corrcorrection)                0.00   \n",
       "14         0.010       GO_DOP(p:0.01,Cr:0.01,corrmirror)                0.00   \n",
       "12         0.010   GO_DOP(p:0.01,Cr:0.01,corrcorrection)                0.00   \n",
       "26         0.100        GO_DOP(p:0.1,Cr:0.01,corrmirror)                0.18   \n",
       "36         0.800    GO_DOP(p:0.8,Cr:0.01,corrcorrection)                0.25   \n",
       "15         0.010    GO_DOP(p:0.01,Cr:0.1,corrcorrection)                0.31   \n",
       "37         0.800     GO_DOP(p:0.8,Cr:0.01,corrextension)                0.32   \n",
       "6          0.005   GO_DOP(p:0.005,Cr:0.5,corrcorrection)                0.32   \n",
       "10         0.005      GO_DOP(p:0.005,Cr:1,corrextension)                0.33   \n",
       "17         0.010        GO_DOP(p:0.01,Cr:0.1,corrmirror)                0.33   \n",
       "34         0.100        GO_DOP(p:0.1,Cr:1,corrextension)                0.34   \n",
       "16         0.010     GO_DOP(p:0.01,Cr:0.1,corrextension)                0.34   \n",
       "9          0.005     GO_DOP(p:0.005,Cr:1,corrcorrection)                0.35   \n",
       "40         0.800      GO_DOP(p:0.8,Cr:0.1,corrextension)                0.35   \n",
       "11         0.005         GO_DOP(p:0.005,Cr:1,corrmirror)                0.36   \n",
       "21         0.010      GO_DOP(p:0.01,Cr:1,corrcorrection)                0.37   \n",
       "44         0.800         GO_DOP(p:0.8,Cr:0.5,corrmirror)                0.37   \n",
       "4          0.005    GO_DOP(p:0.005,Cr:0.1,corrextension)                0.38   \n",
       "39         0.800     GO_DOP(p:0.8,Cr:0.1,corrcorrection)                0.39   \n",
       "13         0.010    GO_DOP(p:0.01,Cr:0.01,corrextension)                0.39   \n",
       "31         0.100      GO_DOP(p:0.1,Cr:0.5,corrextension)                0.39   \n",
       "18         0.010    GO_DOP(p:0.01,Cr:0.5,corrcorrection)                0.40   \n",
       "19         0.010     GO_DOP(p:0.01,Cr:0.5,corrextension)                0.41   \n",
       "43         0.800      GO_DOP(p:0.8,Cr:0.5,corrextension)                0.41   \n",
       "42         0.800     GO_DOP(p:0.8,Cr:0.5,corrcorrection)                0.41   \n",
       "32         0.100         GO_DOP(p:0.1,Cr:0.5,corrmirror)                0.41   \n",
       "38         0.800        GO_DOP(p:0.8,Cr:0.01,corrmirror)                0.42   \n",
       "33         0.100       GO_DOP(p:0.1,Cr:1,corrcorrection)                0.42   \n",
       "47         0.800           GO_DOP(p:0.8,Cr:1,corrmirror)                0.42   \n",
       "28         0.100      GO_DOP(p:0.1,Cr:0.1,corrextension)                0.42   \n",
       "25         0.100     GO_DOP(p:0.1,Cr:0.01,corrextension)                0.42   \n",
       "22         0.010       GO_DOP(p:0.01,Cr:1,corrextension)                0.42   \n",
       "8          0.005       GO_DOP(p:0.005,Cr:0.5,corrmirror)                0.42   \n",
       "30         0.100     GO_DOP(p:0.1,Cr:0.5,corrcorrection)                0.42   \n",
       "41         0.800         GO_DOP(p:0.8,Cr:0.1,corrmirror)                0.43   \n",
       "45         0.800       GO_DOP(p:0.8,Cr:1,corrcorrection)                0.43   \n",
       "35         0.100           GO_DOP(p:0.1,Cr:1,corrmirror)                0.44   \n",
       "23         0.010          GO_DOP(p:0.01,Cr:1,corrmirror)                0.45   \n",
       "29         0.100         GO_DOP(p:0.1,Cr:0.1,corrmirror)                0.46   \n",
       "27         0.100     GO_DOP(p:0.1,Cr:0.1,corrcorrection)                0.46   \n",
       "46         0.800        GO_DOP(p:0.8,Cr:1,corrextension)                0.47   \n",
       "7          0.005    GO_DOP(p:0.005,Cr:0.5,corrextension)                0.47   \n",
       "5          0.005       GO_DOP(p:0.005,Cr:0.1,corrmirror)                0.47   \n",
       "20         0.010        GO_DOP(p:0.01,Cr:0.5,corrmirror)                0.48   \n",
       "\n",
       "      avg_sum  \n",
       "0   10.456961  \n",
       "1   12.106172  \n",
       "2   10.261784  \n",
       "3   13.437681  \n",
       "24   3.844908  \n",
       "14   4.007862  \n",
       "12   3.935375  \n",
       "26   3.846251  \n",
       "36   3.846112  \n",
       "15   4.093479  \n",
       "37   3.846154  \n",
       "6    5.682011  \n",
       "10   3.846154  \n",
       "17   3.846154  \n",
       "34   3.846154  \n",
       "16   3.846154  \n",
       "9    4.888048  \n",
       "40   3.846154  \n",
       "11   3.846154  \n",
       "21   3.846154  \n",
       "44   3.846154  \n",
       "4    3.846154  \n",
       "39   3.846154  \n",
       "13   3.848019  \n",
       "31   3.846154  \n",
       "18   3.857311  \n",
       "19   3.846154  \n",
       "43   3.846154  \n",
       "42   3.846154  \n",
       "32   3.846154  \n",
       "38   3.846191  \n",
       "33   3.846154  \n",
       "47   3.846154  \n",
       "28   3.846154  \n",
       "25   3.846154  \n",
       "22   3.846154  \n",
       "8    3.846154  \n",
       "30   3.846154  \n",
       "41   3.846154  \n",
       "45   3.846154  \n",
       "35   3.846154  \n",
       "23   3.846154  \n",
       "29   3.846154  \n",
       "27   3.846219  \n",
       "46   3.846154  \n",
       "7    3.846154  \n",
       "5    3.846154  \n",
       "20   3.846154  "
      ]
     },
     "execution_count": 83,
     "metadata": {},
     "output_type": "execute_result"
    }
   ],
   "source": [
    "def avg_sum(x):\n",
    "    return np.mean(np.sum(x))\n",
    "def admissibility_rate(x):\n",
    "    return len([n for n in x if np.sum(n) == 1])/len(x)\n",
    "\n",
    "results_pivot = resultsPen.pivot_table(\n",
    "    index=['penalization', 'heur'],\n",
    "    values=['best_x'],\n",
    "    aggfunc=(avg_sum, admissibility_rate)\n",
    ")['best_x']\n",
    "results_pivot = results_pivot.reset_index()\n",
    "results_pivot.sort_values(by='admissibility_rate')"
   ]
  },
  {
   "cell_type": "code",
   "execution_count": 98,
   "metadata": {},
   "outputs": [
    {
     "data": {
      "text/html": [
       "<div>\n",
       "<style scoped>\n",
       "    .dataframe tbody tr th:only-of-type {\n",
       "        vertical-align: middle;\n",
       "    }\n",
       "\n",
       "    .dataframe tbody tr th {\n",
       "        vertical-align: top;\n",
       "    }\n",
       "\n",
       "    .dataframe thead th {\n",
       "        text-align: right;\n",
       "    }\n",
       "</style>\n",
       "<table border=\"1\" class=\"dataframe\">\n",
       "  <thead>\n",
       "    <tr style=\"text-align: right;\">\n",
       "      <th></th>\n",
       "      <th>heur</th>\n",
       "      <th>feo</th>\n",
       "      <th>mne</th>\n",
       "      <th>rel</th>\n",
       "    </tr>\n",
       "  </thead>\n",
       "  <tbody>\n",
       "    <tr>\n",
       "      <td>0</td>\n",
       "      <td>GO_DOP(p:0.005,Cr:0.01,corrcorrection)</td>\n",
       "      <td>NaN</td>\n",
       "      <td>NaN</td>\n",
       "      <td>0.00</td>\n",
       "    </tr>\n",
       "    <tr>\n",
       "      <td>27</td>\n",
       "      <td>GO_DOP(p:0.1,Cr:0.1,corrcorrection)</td>\n",
       "      <td>NaN</td>\n",
       "      <td>NaN</td>\n",
       "      <td>0.00</td>\n",
       "    </tr>\n",
       "    <tr>\n",
       "      <td>28</td>\n",
       "      <td>GO_DOP(p:0.1,Cr:0.1,corrextension)</td>\n",
       "      <td>NaN</td>\n",
       "      <td>NaN</td>\n",
       "      <td>0.00</td>\n",
       "    </tr>\n",
       "    <tr>\n",
       "      <td>29</td>\n",
       "      <td>GO_DOP(p:0.1,Cr:0.1,corrmirror)</td>\n",
       "      <td>NaN</td>\n",
       "      <td>NaN</td>\n",
       "      <td>0.00</td>\n",
       "    </tr>\n",
       "    <tr>\n",
       "      <td>30</td>\n",
       "      <td>GO_DOP(p:0.1,Cr:0.5,corrcorrection)</td>\n",
       "      <td>NaN</td>\n",
       "      <td>NaN</td>\n",
       "      <td>0.00</td>\n",
       "    </tr>\n",
       "    <tr>\n",
       "      <td>31</td>\n",
       "      <td>GO_DOP(p:0.1,Cr:0.5,corrextension)</td>\n",
       "      <td>NaN</td>\n",
       "      <td>NaN</td>\n",
       "      <td>0.00</td>\n",
       "    </tr>\n",
       "    <tr>\n",
       "      <td>32</td>\n",
       "      <td>GO_DOP(p:0.1,Cr:0.5,corrmirror)</td>\n",
       "      <td>NaN</td>\n",
       "      <td>NaN</td>\n",
       "      <td>0.00</td>\n",
       "    </tr>\n",
       "    <tr>\n",
       "      <td>33</td>\n",
       "      <td>GO_DOP(p:0.1,Cr:1,corrcorrection)</td>\n",
       "      <td>NaN</td>\n",
       "      <td>NaN</td>\n",
       "      <td>0.00</td>\n",
       "    </tr>\n",
       "    <tr>\n",
       "      <td>34</td>\n",
       "      <td>GO_DOP(p:0.1,Cr:1,corrextension)</td>\n",
       "      <td>NaN</td>\n",
       "      <td>NaN</td>\n",
       "      <td>0.00</td>\n",
       "    </tr>\n",
       "    <tr>\n",
       "      <td>35</td>\n",
       "      <td>GO_DOP(p:0.1,Cr:1,corrmirror)</td>\n",
       "      <td>NaN</td>\n",
       "      <td>NaN</td>\n",
       "      <td>0.00</td>\n",
       "    </tr>\n",
       "    <tr>\n",
       "      <td>36</td>\n",
       "      <td>GO_DOP(p:0.8,Cr:0.01,corrcorrection)</td>\n",
       "      <td>NaN</td>\n",
       "      <td>NaN</td>\n",
       "      <td>0.00</td>\n",
       "    </tr>\n",
       "    <tr>\n",
       "      <td>37</td>\n",
       "      <td>GO_DOP(p:0.8,Cr:0.01,corrextension)</td>\n",
       "      <td>NaN</td>\n",
       "      <td>NaN</td>\n",
       "      <td>0.00</td>\n",
       "    </tr>\n",
       "    <tr>\n",
       "      <td>38</td>\n",
       "      <td>GO_DOP(p:0.8,Cr:0.01,corrmirror)</td>\n",
       "      <td>NaN</td>\n",
       "      <td>NaN</td>\n",
       "      <td>0.00</td>\n",
       "    </tr>\n",
       "    <tr>\n",
       "      <td>39</td>\n",
       "      <td>GO_DOP(p:0.8,Cr:0.1,corrcorrection)</td>\n",
       "      <td>NaN</td>\n",
       "      <td>NaN</td>\n",
       "      <td>0.00</td>\n",
       "    </tr>\n",
       "    <tr>\n",
       "      <td>40</td>\n",
       "      <td>GO_DOP(p:0.8,Cr:0.1,corrextension)</td>\n",
       "      <td>NaN</td>\n",
       "      <td>NaN</td>\n",
       "      <td>0.00</td>\n",
       "    </tr>\n",
       "    <tr>\n",
       "      <td>41</td>\n",
       "      <td>GO_DOP(p:0.8,Cr:0.1,corrmirror)</td>\n",
       "      <td>NaN</td>\n",
       "      <td>NaN</td>\n",
       "      <td>0.00</td>\n",
       "    </tr>\n",
       "    <tr>\n",
       "      <td>42</td>\n",
       "      <td>GO_DOP(p:0.8,Cr:0.5,corrcorrection)</td>\n",
       "      <td>NaN</td>\n",
       "      <td>NaN</td>\n",
       "      <td>0.00</td>\n",
       "    </tr>\n",
       "    <tr>\n",
       "      <td>43</td>\n",
       "      <td>GO_DOP(p:0.8,Cr:0.5,corrextension)</td>\n",
       "      <td>NaN</td>\n",
       "      <td>NaN</td>\n",
       "      <td>0.00</td>\n",
       "    </tr>\n",
       "    <tr>\n",
       "      <td>44</td>\n",
       "      <td>GO_DOP(p:0.8,Cr:0.5,corrmirror)</td>\n",
       "      <td>NaN</td>\n",
       "      <td>NaN</td>\n",
       "      <td>0.00</td>\n",
       "    </tr>\n",
       "    <tr>\n",
       "      <td>45</td>\n",
       "      <td>GO_DOP(p:0.8,Cr:1,corrcorrection)</td>\n",
       "      <td>NaN</td>\n",
       "      <td>NaN</td>\n",
       "      <td>0.00</td>\n",
       "    </tr>\n",
       "    <tr>\n",
       "      <td>46</td>\n",
       "      <td>GO_DOP(p:0.8,Cr:1,corrextension)</td>\n",
       "      <td>NaN</td>\n",
       "      <td>NaN</td>\n",
       "      <td>0.00</td>\n",
       "    </tr>\n",
       "    <tr>\n",
       "      <td>47</td>\n",
       "      <td>GO_DOP(p:0.8,Cr:1,corrmirror)</td>\n",
       "      <td>NaN</td>\n",
       "      <td>NaN</td>\n",
       "      <td>0.00</td>\n",
       "    </tr>\n",
       "    <tr>\n",
       "      <td>26</td>\n",
       "      <td>GO_DOP(p:0.1,Cr:0.01,corrmirror)</td>\n",
       "      <td>NaN</td>\n",
       "      <td>NaN</td>\n",
       "      <td>0.00</td>\n",
       "    </tr>\n",
       "    <tr>\n",
       "      <td>24</td>\n",
       "      <td>GO_DOP(p:0.1,Cr:0.01,corrcorrection)</td>\n",
       "      <td>NaN</td>\n",
       "      <td>NaN</td>\n",
       "      <td>0.00</td>\n",
       "    </tr>\n",
       "    <tr>\n",
       "      <td>25</td>\n",
       "      <td>GO_DOP(p:0.1,Cr:0.01,corrextension)</td>\n",
       "      <td>NaN</td>\n",
       "      <td>NaN</td>\n",
       "      <td>0.00</td>\n",
       "    </tr>\n",
       "    <tr>\n",
       "      <td>11</td>\n",
       "      <td>GO_DOP(p:0.005,Cr:1,corrmirror)</td>\n",
       "      <td>NaN</td>\n",
       "      <td>NaN</td>\n",
       "      <td>0.00</td>\n",
       "    </tr>\n",
       "    <tr>\n",
       "      <td>3</td>\n",
       "      <td>GO_DOP(p:0.005,Cr:0.1,corrcorrection)</td>\n",
       "      <td>NaN</td>\n",
       "      <td>NaN</td>\n",
       "      <td>0.00</td>\n",
       "    </tr>\n",
       "    <tr>\n",
       "      <td>4</td>\n",
       "      <td>GO_DOP(p:0.005,Cr:0.1,corrextension)</td>\n",
       "      <td>NaN</td>\n",
       "      <td>NaN</td>\n",
       "      <td>0.00</td>\n",
       "    </tr>\n",
       "    <tr>\n",
       "      <td>5</td>\n",
       "      <td>GO_DOP(p:0.005,Cr:0.1,corrmirror)</td>\n",
       "      <td>NaN</td>\n",
       "      <td>NaN</td>\n",
       "      <td>0.00</td>\n",
       "    </tr>\n",
       "    <tr>\n",
       "      <td>6</td>\n",
       "      <td>GO_DOP(p:0.005,Cr:0.5,corrcorrection)</td>\n",
       "      <td>NaN</td>\n",
       "      <td>NaN</td>\n",
       "      <td>0.00</td>\n",
       "    </tr>\n",
       "    <tr>\n",
       "      <td>7</td>\n",
       "      <td>GO_DOP(p:0.005,Cr:0.5,corrextension)</td>\n",
       "      <td>NaN</td>\n",
       "      <td>NaN</td>\n",
       "      <td>0.00</td>\n",
       "    </tr>\n",
       "    <tr>\n",
       "      <td>8</td>\n",
       "      <td>GO_DOP(p:0.005,Cr:0.5,corrmirror)</td>\n",
       "      <td>NaN</td>\n",
       "      <td>NaN</td>\n",
       "      <td>0.00</td>\n",
       "    </tr>\n",
       "    <tr>\n",
       "      <td>9</td>\n",
       "      <td>GO_DOP(p:0.005,Cr:1,corrcorrection)</td>\n",
       "      <td>NaN</td>\n",
       "      <td>NaN</td>\n",
       "      <td>0.00</td>\n",
       "    </tr>\n",
       "    <tr>\n",
       "      <td>10</td>\n",
       "      <td>GO_DOP(p:0.005,Cr:1,corrextension)</td>\n",
       "      <td>NaN</td>\n",
       "      <td>NaN</td>\n",
       "      <td>0.00</td>\n",
       "    </tr>\n",
       "    <tr>\n",
       "      <td>23</td>\n",
       "      <td>GO_DOP(p:0.01,Cr:1,corrmirror)</td>\n",
       "      <td>NaN</td>\n",
       "      <td>NaN</td>\n",
       "      <td>0.00</td>\n",
       "    </tr>\n",
       "    <tr>\n",
       "      <td>2</td>\n",
       "      <td>GO_DOP(p:0.005,Cr:0.01,corrmirror)</td>\n",
       "      <td>NaN</td>\n",
       "      <td>NaN</td>\n",
       "      <td>0.00</td>\n",
       "    </tr>\n",
       "    <tr>\n",
       "      <td>12</td>\n",
       "      <td>GO_DOP(p:0.01,Cr:0.01,corrcorrection)</td>\n",
       "      <td>NaN</td>\n",
       "      <td>NaN</td>\n",
       "      <td>0.00</td>\n",
       "    </tr>\n",
       "    <tr>\n",
       "      <td>14</td>\n",
       "      <td>GO_DOP(p:0.01,Cr:0.01,corrmirror)</td>\n",
       "      <td>NaN</td>\n",
       "      <td>NaN</td>\n",
       "      <td>0.00</td>\n",
       "    </tr>\n",
       "    <tr>\n",
       "      <td>15</td>\n",
       "      <td>GO_DOP(p:0.01,Cr:0.1,corrcorrection)</td>\n",
       "      <td>NaN</td>\n",
       "      <td>NaN</td>\n",
       "      <td>0.00</td>\n",
       "    </tr>\n",
       "    <tr>\n",
       "      <td>16</td>\n",
       "      <td>GO_DOP(p:0.01,Cr:0.1,corrextension)</td>\n",
       "      <td>NaN</td>\n",
       "      <td>NaN</td>\n",
       "      <td>0.00</td>\n",
       "    </tr>\n",
       "    <tr>\n",
       "      <td>17</td>\n",
       "      <td>GO_DOP(p:0.01,Cr:0.1,corrmirror)</td>\n",
       "      <td>NaN</td>\n",
       "      <td>NaN</td>\n",
       "      <td>0.00</td>\n",
       "    </tr>\n",
       "    <tr>\n",
       "      <td>18</td>\n",
       "      <td>GO_DOP(p:0.01,Cr:0.5,corrcorrection)</td>\n",
       "      <td>NaN</td>\n",
       "      <td>NaN</td>\n",
       "      <td>0.00</td>\n",
       "    </tr>\n",
       "    <tr>\n",
       "      <td>19</td>\n",
       "      <td>GO_DOP(p:0.01,Cr:0.5,corrextension)</td>\n",
       "      <td>NaN</td>\n",
       "      <td>NaN</td>\n",
       "      <td>0.00</td>\n",
       "    </tr>\n",
       "    <tr>\n",
       "      <td>20</td>\n",
       "      <td>GO_DOP(p:0.01,Cr:0.5,corrmirror)</td>\n",
       "      <td>NaN</td>\n",
       "      <td>NaN</td>\n",
       "      <td>0.00</td>\n",
       "    </tr>\n",
       "    <tr>\n",
       "      <td>21</td>\n",
       "      <td>GO_DOP(p:0.01,Cr:1,corrcorrection)</td>\n",
       "      <td>NaN</td>\n",
       "      <td>NaN</td>\n",
       "      <td>0.00</td>\n",
       "    </tr>\n",
       "    <tr>\n",
       "      <td>22</td>\n",
       "      <td>GO_DOP(p:0.01,Cr:1,corrextension)</td>\n",
       "      <td>NaN</td>\n",
       "      <td>NaN</td>\n",
       "      <td>0.00</td>\n",
       "    </tr>\n",
       "    <tr>\n",
       "      <td>13</td>\n",
       "      <td>GO_DOP(p:0.01,Cr:0.01,corrextension)</td>\n",
       "      <td>NaN</td>\n",
       "      <td>NaN</td>\n",
       "      <td>0.00</td>\n",
       "    </tr>\n",
       "    <tr>\n",
       "      <td>1</td>\n",
       "      <td>GO_DOP(p:0.005,Cr:0.01,corrextension)</td>\n",
       "      <td>NaN</td>\n",
       "      <td>NaN</td>\n",
       "      <td>0.00</td>\n",
       "    </tr>\n",
       "    <tr>\n",
       "      <td>50</td>\n",
       "      <td>GO_N(50)_M(150)_T1(0.5)_T2(0.1)_Cr(1)_mult(1)</td>\n",
       "      <td>5920.312500</td>\n",
       "      <td>473.625000</td>\n",
       "      <td>0.08</td>\n",
       "    </tr>\n",
       "    <tr>\n",
       "      <td>49</td>\n",
       "      <td>GO_N(50)_M(100)_T1(0.5)_T2(0.2)_Cr(1)_mult(1)</td>\n",
       "      <td>5880.000000</td>\n",
       "      <td>588.000000</td>\n",
       "      <td>0.10</td>\n",
       "    </tr>\n",
       "    <tr>\n",
       "      <td>48</td>\n",
       "      <td>GO_N(50)_M(100)_T1(0.5)_T2(0.1)_Cr(1)_mult(1)</td>\n",
       "      <td>4481.944444</td>\n",
       "      <td>537.833333</td>\n",
       "      <td>0.12</td>\n",
       "    </tr>\n",
       "  </tbody>\n",
       "</table>\n",
       "</div>"
      ],
      "text/plain": [
       "                                             heur          feo         mne  \\\n",
       "0          GO_DOP(p:0.005,Cr:0.01,corrcorrection)          NaN         NaN   \n",
       "27            GO_DOP(p:0.1,Cr:0.1,corrcorrection)          NaN         NaN   \n",
       "28             GO_DOP(p:0.1,Cr:0.1,corrextension)          NaN         NaN   \n",
       "29                GO_DOP(p:0.1,Cr:0.1,corrmirror)          NaN         NaN   \n",
       "30            GO_DOP(p:0.1,Cr:0.5,corrcorrection)          NaN         NaN   \n",
       "31             GO_DOP(p:0.1,Cr:0.5,corrextension)          NaN         NaN   \n",
       "32                GO_DOP(p:0.1,Cr:0.5,corrmirror)          NaN         NaN   \n",
       "33              GO_DOP(p:0.1,Cr:1,corrcorrection)          NaN         NaN   \n",
       "34               GO_DOP(p:0.1,Cr:1,corrextension)          NaN         NaN   \n",
       "35                  GO_DOP(p:0.1,Cr:1,corrmirror)          NaN         NaN   \n",
       "36           GO_DOP(p:0.8,Cr:0.01,corrcorrection)          NaN         NaN   \n",
       "37            GO_DOP(p:0.8,Cr:0.01,corrextension)          NaN         NaN   \n",
       "38               GO_DOP(p:0.8,Cr:0.01,corrmirror)          NaN         NaN   \n",
       "39            GO_DOP(p:0.8,Cr:0.1,corrcorrection)          NaN         NaN   \n",
       "40             GO_DOP(p:0.8,Cr:0.1,corrextension)          NaN         NaN   \n",
       "41                GO_DOP(p:0.8,Cr:0.1,corrmirror)          NaN         NaN   \n",
       "42            GO_DOP(p:0.8,Cr:0.5,corrcorrection)          NaN         NaN   \n",
       "43             GO_DOP(p:0.8,Cr:0.5,corrextension)          NaN         NaN   \n",
       "44                GO_DOP(p:0.8,Cr:0.5,corrmirror)          NaN         NaN   \n",
       "45              GO_DOP(p:0.8,Cr:1,corrcorrection)          NaN         NaN   \n",
       "46               GO_DOP(p:0.8,Cr:1,corrextension)          NaN         NaN   \n",
       "47                  GO_DOP(p:0.8,Cr:1,corrmirror)          NaN         NaN   \n",
       "26               GO_DOP(p:0.1,Cr:0.01,corrmirror)          NaN         NaN   \n",
       "24           GO_DOP(p:0.1,Cr:0.01,corrcorrection)          NaN         NaN   \n",
       "25            GO_DOP(p:0.1,Cr:0.01,corrextension)          NaN         NaN   \n",
       "11                GO_DOP(p:0.005,Cr:1,corrmirror)          NaN         NaN   \n",
       "3           GO_DOP(p:0.005,Cr:0.1,corrcorrection)          NaN         NaN   \n",
       "4            GO_DOP(p:0.005,Cr:0.1,corrextension)          NaN         NaN   \n",
       "5               GO_DOP(p:0.005,Cr:0.1,corrmirror)          NaN         NaN   \n",
       "6           GO_DOP(p:0.005,Cr:0.5,corrcorrection)          NaN         NaN   \n",
       "7            GO_DOP(p:0.005,Cr:0.5,corrextension)          NaN         NaN   \n",
       "8               GO_DOP(p:0.005,Cr:0.5,corrmirror)          NaN         NaN   \n",
       "9             GO_DOP(p:0.005,Cr:1,corrcorrection)          NaN         NaN   \n",
       "10             GO_DOP(p:0.005,Cr:1,corrextension)          NaN         NaN   \n",
       "23                 GO_DOP(p:0.01,Cr:1,corrmirror)          NaN         NaN   \n",
       "2              GO_DOP(p:0.005,Cr:0.01,corrmirror)          NaN         NaN   \n",
       "12          GO_DOP(p:0.01,Cr:0.01,corrcorrection)          NaN         NaN   \n",
       "14              GO_DOP(p:0.01,Cr:0.01,corrmirror)          NaN         NaN   \n",
       "15           GO_DOP(p:0.01,Cr:0.1,corrcorrection)          NaN         NaN   \n",
       "16            GO_DOP(p:0.01,Cr:0.1,corrextension)          NaN         NaN   \n",
       "17               GO_DOP(p:0.01,Cr:0.1,corrmirror)          NaN         NaN   \n",
       "18           GO_DOP(p:0.01,Cr:0.5,corrcorrection)          NaN         NaN   \n",
       "19            GO_DOP(p:0.01,Cr:0.5,corrextension)          NaN         NaN   \n",
       "20               GO_DOP(p:0.01,Cr:0.5,corrmirror)          NaN         NaN   \n",
       "21             GO_DOP(p:0.01,Cr:1,corrcorrection)          NaN         NaN   \n",
       "22              GO_DOP(p:0.01,Cr:1,corrextension)          NaN         NaN   \n",
       "13           GO_DOP(p:0.01,Cr:0.01,corrextension)          NaN         NaN   \n",
       "1           GO_DOP(p:0.005,Cr:0.01,corrextension)          NaN         NaN   \n",
       "50  GO_N(50)_M(150)_T1(0.5)_T2(0.1)_Cr(1)_mult(1)  5920.312500  473.625000   \n",
       "49  GO_N(50)_M(100)_T1(0.5)_T2(0.2)_Cr(1)_mult(1)  5880.000000  588.000000   \n",
       "48  GO_N(50)_M(100)_T1(0.5)_T2(0.1)_Cr(1)_mult(1)  4481.944444  537.833333   \n",
       "\n",
       "     rel  \n",
       "0   0.00  \n",
       "27  0.00  \n",
       "28  0.00  \n",
       "29  0.00  \n",
       "30  0.00  \n",
       "31  0.00  \n",
       "32  0.00  \n",
       "33  0.00  \n",
       "34  0.00  \n",
       "35  0.00  \n",
       "36  0.00  \n",
       "37  0.00  \n",
       "38  0.00  \n",
       "39  0.00  \n",
       "40  0.00  \n",
       "41  0.00  \n",
       "42  0.00  \n",
       "43  0.00  \n",
       "44  0.00  \n",
       "45  0.00  \n",
       "46  0.00  \n",
       "47  0.00  \n",
       "26  0.00  \n",
       "24  0.00  \n",
       "25  0.00  \n",
       "11  0.00  \n",
       "3   0.00  \n",
       "4   0.00  \n",
       "5   0.00  \n",
       "6   0.00  \n",
       "7   0.00  \n",
       "8   0.00  \n",
       "9   0.00  \n",
       "10  0.00  \n",
       "23  0.00  \n",
       "2   0.00  \n",
       "12  0.00  \n",
       "14  0.00  \n",
       "15  0.00  \n",
       "16  0.00  \n",
       "17  0.00  \n",
       "18  0.00  \n",
       "19  0.00  \n",
       "20  0.00  \n",
       "21  0.00  \n",
       "22  0.00  \n",
       "13  0.00  \n",
       "1   0.00  \n",
       "50  0.08  \n",
       "49  0.10  \n",
       "48  0.12  "
      ]
     },
     "execution_count": 98,
     "metadata": {},
     "output_type": "execute_result"
    }
   ],
   "source": [
    "results_pivot = resultsPen.pivot_table(\n",
    "    index=['heur'],\n",
    "    values=['neval'],\n",
    "    aggfunc=(rel, mne, feo)\n",
    ")['neval']\n",
    "results_pivot = results_pivot.reset_index()\n",
    "results_pivot.sort_values(by='rel')"
   ]
  },
  {
   "cell_type": "markdown",
   "metadata": {},
   "source": [
    "### Comparison"
   ]
  },
  {
   "cell_type": "code",
   "execution_count": 93,
   "metadata": {},
   "outputs": [],
   "source": [
    "## Setup the best found value \n",
    "prob.fstar = -50\n",
    "\n",
    "NUM_RUNS = 100\n",
    "maxeval = 1000"
   ]
  },
  {
   "cell_type": "code",
   "execution_count": 30,
   "metadata": {},
   "outputs": [],
   "source": [
    "import pandas as pd\n",
    "from tqdm.notebook import tqdm"
   ]
  },
  {
   "cell_type": "code",
   "execution_count": 94,
   "metadata": {},
   "outputs": [
    {
     "data": {
      "application/vnd.jupyter.widget-view+json": {
       "model_id": "6816a8feb177419b86e295ae77e5cad5",
       "version_major": 2,
       "version_minor": 0
      },
      "text/plain": [
       "HBox(children=(IntProgress(value=0, description='Testing GO_(N:50,M:150,T1:0.5,T2:0.1,Cr:1,mult:1)', style=Pro…"
      ]
     },
     "metadata": {},
     "output_type": "display_data"
    },
    {
     "name": "stdout",
     "output_type": "stream",
     "text": [
      "\n"
     ]
    },
    {
     "data": {
      "application/vnd.jupyter.widget-view+json": {
       "model_id": "d9a0c652a4d04adc800321c819d85bdb",
       "version_major": 2,
       "version_minor": 0
      },
      "text/plain": [
       "HBox(children=(IntProgress(value=0, description='Testing GO_(N:50,M:100,T1:0.5,T2:0.1,Cr:1,mult:1)', style=Pro…"
      ]
     },
     "metadata": {},
     "output_type": "display_data"
    },
    {
     "name": "stdout",
     "output_type": "stream",
     "text": [
      "\n"
     ]
    },
    {
     "data": {
      "application/vnd.jupyter.widget-view+json": {
       "model_id": "009b56c29d6548448d58fd3a58f0a328",
       "version_major": 2,
       "version_minor": 0
      },
      "text/plain": [
       "HBox(children=(IntProgress(value=0, description='Testing GO_(N:50,M:100,T1:0.5,T2:0.2,Cr:1,mult:1)', style=Pro…"
      ]
     },
     "metadata": {},
     "output_type": "display_data"
    },
    {
     "name": "stdout",
     "output_type": "stream",
     "text": [
      "\n"
     ]
    },
    {
     "data": {
      "application/vnd.jupyter.widget-view+json": {
       "model_id": "3142c44e111c433bbd1cce98f9ddcb01",
       "version_major": 2,
       "version_minor": 0
      },
      "text/plain": [
       "HBox(children=(IntProgress(value=0, description='Testing GO_(N:50,M:100,T1:0.5,T2:0.1,Cr:0.1,mult:1)', style=P…"
      ]
     },
     "metadata": {},
     "output_type": "display_data"
    },
    {
     "name": "stdout",
     "output_type": "stream",
     "text": [
      "\n"
     ]
    },
    {
     "data": {
      "application/vnd.jupyter.widget-view+json": {
       "model_id": "f6b247c370a345d09a823e42ec8209d8",
       "version_major": 2,
       "version_minor": 0
      },
      "text/plain": [
       "HBox(children=(IntProgress(value=0, description='Testing GO_(N:50,M:100,T1:0.5,T2:0.1,Cr:0.2,mult:1)', style=P…"
      ]
     },
     "metadata": {},
     "output_type": "display_data"
    },
    {
     "name": "stdout",
     "output_type": "stream",
     "text": [
      "\n"
     ]
    },
    {
     "data": {
      "application/vnd.jupyter.widget-view+json": {
       "model_id": "45642f926ff04dad845d81f3707f0a57",
       "version_major": 2,
       "version_minor": 0
      },
      "text/plain": [
       "HBox(children=(IntProgress(value=0, description='Testing GO_(N:50,M:100,T1:0.5,T2:0.1,Cr:0.01,mult:1)', style=…"
      ]
     },
     "metadata": {},
     "output_type": "display_data"
    },
    {
     "name": "stdout",
     "output_type": "stream",
     "text": [
      "\n"
     ]
    },
    {
     "data": {
      "application/vnd.jupyter.widget-view+json": {
       "model_id": "d81ad8c6568145ec811c45248434da6c",
       "version_major": 2,
       "version_minor": 0
      },
      "text/plain": [
       "HBox(children=(IntProgress(value=0, description='Testing GO_(N:50,M:100,T1:0.5,T2:0.1,Cr:0.1,mult:2)', style=P…"
      ]
     },
     "metadata": {},
     "output_type": "display_data"
    },
    {
     "name": "stdout",
     "output_type": "stream",
     "text": [
      "\n"
     ]
    },
    {
     "data": {
      "application/vnd.jupyter.widget-view+json": {
       "model_id": "5b1add5b056c427a8c08badb027036b6",
       "version_major": 2,
       "version_minor": 0
      },
      "text/plain": [
       "HBox(children=(IntProgress(value=0, description='Testing GO_(N:50,M:100,T1:0.5,T2:0.1,Cr:0.1,mult:4)', style=P…"
      ]
     },
     "metadata": {},
     "output_type": "display_data"
    },
    {
     "name": "stdout",
     "output_type": "stream",
     "text": [
      "\n"
     ]
    },
    {
     "data": {
      "application/vnd.jupyter.widget-view+json": {
       "model_id": "5d4ea2dca10c4c9495ce769127c35951",
       "version_major": 2,
       "version_minor": 0
      },
      "text/plain": [
       "HBox(children=(IntProgress(value=0, description='Testing GO_(N:50,M:100,T1:0.5,T2:0.1,Cr:0.1,mult:6)', style=P…"
      ]
     },
     "metadata": {},
     "output_type": "display_data"
    },
    {
     "name": "stdout",
     "output_type": "stream",
     "text": [
      "\n"
     ]
    }
   ],
   "source": [
    "results = pd.DataFrame()\n",
    "runs = []\n",
    "for setup in [{'N': 50, 'M': 150, 'multipoint': 1, 'T1': 0.5, 'T2': 0.1, 'Cr': 1,},\n",
    "              {'N': 50, 'M': 100, 'multipoint': 1, 'T1': 0.5, 'T2': 0.1, 'Cr': 1,},\n",
    "              {'N': 50, 'M': 100, 'multipoint': 1, 'T1': 0.5, 'T2': 0.2, 'Cr': 1,},\n",
    "              {'N': 50, 'M': 100, 'multipoint': 1, 'T1': 0.5, 'T2': 0.1, 'Cr': 0.1,},\n",
    "              {'N': 50, 'M': 100, 'multipoint': 1, 'T1': 0.5, 'T2': 0.1, 'Cr': 0.2,},\n",
    "              {'N': 50, 'M': 100, 'multipoint': 1, 'T1': 0.5, 'T2': 0.1, 'Cr': 0.01,},\n",
    "              {'N': 50, 'M': 100, 'multipoint': 2, 'T1': 0.5, 'T2': 0.1, 'Cr': 0.1,},\n",
    "              {'N': 50, 'M': 100, 'multipoint': 4, 'T1': 0.5, 'T2': 0.1, 'Cr': 0.1,},\n",
    "              {'N': 50, 'M': 100, 'multipoint': 6, 'T1': 0.5, 'T2': 0.1, 'Cr': 0.1,}\n",
    "             ]:\n",
    "    heur_name = 'GO_(N:{},M:{},T1:{},T2:{},Cr:{},mult:{})'.format( setup['N'],\n",
    "                                                                   setup['M'],\n",
    "                                                                   setup['T1'],\n",
    "                                                                   setup['T2'],\n",
    "                                                                   setup['Cr'],\n",
    "                                                                   setup['multipoint'] )\n",
    "    for i in tqdm(range(NUM_RUNS), 'Testing {}'.format(heur_name)):\n",
    "        run = GeneticOptimization( prob, \n",
    "                                   maxeval=maxeval,\n",
    "                                   N=setup['N'],\n",
    "                                   M=setup['M'],\n",
    "                                   Tsel1=setup['T1'],\n",
    "                                   Tsel2=setup['T2'], \n",
    "                                   mutation=CauchyMutation(r = setup['Cr'], correction =NormalizeCorrection(prob)),\n",
    "                                   crossover=UniformMultipoint(setup['multipoint']) ).search()\n",
    "        run['run'] = i\n",
    "        run['heur'] = heur_name\n",
    "        runs.append(run)\n",
    "    \n",
    "    res_df = pd.DataFrame(runs, columns=['heur', 'run', 'best_x', 'best_y', 'neval'])\n",
    "    results = pd.concat([results, res_df], axis=0)\n"
   ]
  },
  {
   "cell_type": "code",
   "execution_count": 90,
   "metadata": {},
   "outputs": [],
   "source": [
    "def rel(x):\n",
    "    return len([n for n in x if n < np.inf])/len(x)\n",
    "def mne(x):\n",
    "    return np.mean([n for n in x if n < np.inf])\n",
    "def feo(x):\n",
    "    return mne(x)/rel(x)"
   ]
  },
  {
   "cell_type": "code",
   "execution_count": 95,
   "metadata": {},
   "outputs": [
    {
     "data": {
      "text/html": [
       "<div>\n",
       "<style scoped>\n",
       "    .dataframe tbody tr th:only-of-type {\n",
       "        vertical-align: middle;\n",
       "    }\n",
       "\n",
       "    .dataframe tbody tr th {\n",
       "        vertical-align: top;\n",
       "    }\n",
       "\n",
       "    .dataframe thead th {\n",
       "        text-align: right;\n",
       "    }\n",
       "</style>\n",
       "<table border=\"1\" class=\"dataframe\">\n",
       "  <thead>\n",
       "    <tr style=\"text-align: right;\">\n",
       "      <th></th>\n",
       "      <th>heur</th>\n",
       "      <th>feo</th>\n",
       "      <th>mne</th>\n",
       "      <th>rel</th>\n",
       "    </tr>\n",
       "  </thead>\n",
       "  <tbody>\n",
       "    <tr>\n",
       "      <td>5</td>\n",
       "      <td>GO_(N:50,M:100,T1:0.5,T2:0.1,Cr:0.2,mult:1)</td>\n",
       "      <td>448.407255</td>\n",
       "      <td>363.209877</td>\n",
       "      <td>0.81</td>\n",
       "    </tr>\n",
       "    <tr>\n",
       "      <td>0</td>\n",
       "      <td>GO_(N:50,M:100,T1:0.5,T2:0.1,Cr:0.01,mult:1)</td>\n",
       "      <td>439.484127</td>\n",
       "      <td>369.166667</td>\n",
       "      <td>0.84</td>\n",
       "    </tr>\n",
       "    <tr>\n",
       "      <td>4</td>\n",
       "      <td>GO_(N:50,M:100,T1:0.5,T2:0.1,Cr:0.1,mult:6)</td>\n",
       "      <td>419.847751</td>\n",
       "      <td>356.870588</td>\n",
       "      <td>0.85</td>\n",
       "    </tr>\n",
       "    <tr>\n",
       "      <td>3</td>\n",
       "      <td>GO_(N:50,M:100,T1:0.5,T2:0.1,Cr:0.1,mult:4)</td>\n",
       "      <td>452.492252</td>\n",
       "      <td>398.193182</td>\n",
       "      <td>0.88</td>\n",
       "    </tr>\n",
       "    <tr>\n",
       "      <td>1</td>\n",
       "      <td>GO_(N:50,M:100,T1:0.5,T2:0.1,Cr:0.1,mult:1)</td>\n",
       "      <td>395.172840</td>\n",
       "      <td>355.655556</td>\n",
       "      <td>0.90</td>\n",
       "    </tr>\n",
       "    <tr>\n",
       "      <td>8</td>\n",
       "      <td>GO_(N:50,M:150,T1:0.5,T2:0.1,Cr:1,mult:1)</td>\n",
       "      <td>391.111111</td>\n",
       "      <td>352.000000</td>\n",
       "      <td>0.90</td>\n",
       "    </tr>\n",
       "    <tr>\n",
       "      <td>7</td>\n",
       "      <td>GO_(N:50,M:100,T1:0.5,T2:0.2,Cr:1,mult:1)</td>\n",
       "      <td>368.651129</td>\n",
       "      <td>335.472527</td>\n",
       "      <td>0.91</td>\n",
       "    </tr>\n",
       "    <tr>\n",
       "      <td>6</td>\n",
       "      <td>GO_(N:50,M:100,T1:0.5,T2:0.1,Cr:1,mult:1)</td>\n",
       "      <td>411.235822</td>\n",
       "      <td>378.336957</td>\n",
       "      <td>0.92</td>\n",
       "    </tr>\n",
       "    <tr>\n",
       "      <td>2</td>\n",
       "      <td>GO_(N:50,M:100,T1:0.5,T2:0.1,Cr:0.1,mult:2)</td>\n",
       "      <td>373.506925</td>\n",
       "      <td>354.831579</td>\n",
       "      <td>0.95</td>\n",
       "    </tr>\n",
       "  </tbody>\n",
       "</table>\n",
       "</div>"
      ],
      "text/plain": [
       "                                           heur         feo         mne   rel\n",
       "5   GO_(N:50,M:100,T1:0.5,T2:0.1,Cr:0.2,mult:1)  448.407255  363.209877  0.81\n",
       "0  GO_(N:50,M:100,T1:0.5,T2:0.1,Cr:0.01,mult:1)  439.484127  369.166667  0.84\n",
       "4   GO_(N:50,M:100,T1:0.5,T2:0.1,Cr:0.1,mult:6)  419.847751  356.870588  0.85\n",
       "3   GO_(N:50,M:100,T1:0.5,T2:0.1,Cr:0.1,mult:4)  452.492252  398.193182  0.88\n",
       "1   GO_(N:50,M:100,T1:0.5,T2:0.1,Cr:0.1,mult:1)  395.172840  355.655556  0.90\n",
       "8     GO_(N:50,M:150,T1:0.5,T2:0.1,Cr:1,mult:1)  391.111111  352.000000  0.90\n",
       "7     GO_(N:50,M:100,T1:0.5,T2:0.2,Cr:1,mult:1)  368.651129  335.472527  0.91\n",
       "6     GO_(N:50,M:100,T1:0.5,T2:0.1,Cr:1,mult:1)  411.235822  378.336957  0.92\n",
       "2   GO_(N:50,M:100,T1:0.5,T2:0.1,Cr:0.1,mult:2)  373.506925  354.831579  0.95"
      ]
     },
     "execution_count": 95,
     "metadata": {},
     "output_type": "execute_result"
    }
   ],
   "source": [
    "results_pivot = results.pivot_table(\n",
    "    index=['heur'],\n",
    "    values=['neval'],\n",
    "    aggfunc=(rel, mne, feo)\n",
    ")['neval']\n",
    "results_pivot = results_pivot.reset_index()\n",
    "results_pivot.sort_values(by='rel')"
   ]
  },
  {
   "cell_type": "code",
   "execution_count": 92,
   "metadata": {},
   "outputs": [
    {
     "data": {
      "text/html": [
       "<div>\n",
       "<style scoped>\n",
       "    .dataframe tbody tr th:only-of-type {\n",
       "        vertical-align: middle;\n",
       "    }\n",
       "\n",
       "    .dataframe tbody tr th {\n",
       "        vertical-align: top;\n",
       "    }\n",
       "\n",
       "    .dataframe thead th {\n",
       "        text-align: right;\n",
       "    }\n",
       "</style>\n",
       "<table border=\"1\" class=\"dataframe\">\n",
       "  <thead>\n",
       "    <tr style=\"text-align: right;\">\n",
       "      <th></th>\n",
       "      <th>heur</th>\n",
       "      <th>run</th>\n",
       "      <th>best_x</th>\n",
       "      <th>best_y</th>\n",
       "      <th>neval</th>\n",
       "    </tr>\n",
       "  </thead>\n",
       "  <tbody>\n",
       "    <tr>\n",
       "      <td>0</td>\n",
       "      <td>GO_(N:50,M:150,T1:0.5,T2:0.1,Cr:1,mult:1)</td>\n",
       "      <td>0</td>\n",
       "      <td>[0.002024563777743476, 0.002320444609727397, 0...</td>\n",
       "      <td>-55.695100</td>\n",
       "      <td>inf</td>\n",
       "    </tr>\n",
       "    <tr>\n",
       "      <td>1</td>\n",
       "      <td>GO_(N:50,M:150,T1:0.5,T2:0.1,Cr:1,mult:1)</td>\n",
       "      <td>1</td>\n",
       "      <td>[0.022877889183504647, 0.0003384486144899199, ...</td>\n",
       "      <td>-50.203711</td>\n",
       "      <td>inf</td>\n",
       "    </tr>\n",
       "    <tr>\n",
       "      <td>2</td>\n",
       "      <td>GO_(N:50,M:150,T1:0.5,T2:0.1,Cr:1,mult:1)</td>\n",
       "      <td>2</td>\n",
       "      <td>[0.0004711829818056682, 0.009003797072664091, ...</td>\n",
       "      <td>-50.458681</td>\n",
       "      <td>inf</td>\n",
       "    </tr>\n",
       "    <tr>\n",
       "      <td>3</td>\n",
       "      <td>GO_(N:50,M:150,T1:0.5,T2:0.1,Cr:1,mult:1)</td>\n",
       "      <td>3</td>\n",
       "      <td>[0.000599930511894724, 0.0007085135841716023, ...</td>\n",
       "      <td>-59.664381</td>\n",
       "      <td>inf</td>\n",
       "    </tr>\n",
       "    <tr>\n",
       "      <td>4</td>\n",
       "      <td>GO_(N:50,M:150,T1:0.5,T2:0.1,Cr:1,mult:1)</td>\n",
       "      <td>4</td>\n",
       "      <td>[0.0043624286420911726, 0.0017461739783471116,...</td>\n",
       "      <td>-58.483767</td>\n",
       "      <td>inf</td>\n",
       "    </tr>\n",
       "    <tr>\n",
       "      <td>...</td>\n",
       "      <td>...</td>\n",
       "      <td>...</td>\n",
       "      <td>...</td>\n",
       "      <td>...</td>\n",
       "      <td>...</td>\n",
       "    </tr>\n",
       "    <tr>\n",
       "      <td>895</td>\n",
       "      <td>GO_(N:50,M:100,T1:0.5,T2:0.1,Cr:0.1,mult:6)</td>\n",
       "      <td>95</td>\n",
       "      <td>[3.190228284684756e-05, 2.349436590700957e-06,...</td>\n",
       "      <td>-63.927771</td>\n",
       "      <td>469.0</td>\n",
       "    </tr>\n",
       "    <tr>\n",
       "      <td>896</td>\n",
       "      <td>GO_(N:50,M:100,T1:0.5,T2:0.1,Cr:0.1,mult:6)</td>\n",
       "      <td>96</td>\n",
       "      <td>[0.0014437370953422311, 0.00335715191664135, 0...</td>\n",
       "      <td>-59.974166</td>\n",
       "      <td>inf</td>\n",
       "    </tr>\n",
       "    <tr>\n",
       "      <td>897</td>\n",
       "      <td>GO_(N:50,M:100,T1:0.5,T2:0.1,Cr:0.1,mult:6)</td>\n",
       "      <td>97</td>\n",
       "      <td>[0.00029455357340046044, 0.0041182669619689955...</td>\n",
       "      <td>-58.188894</td>\n",
       "      <td>inf</td>\n",
       "    </tr>\n",
       "    <tr>\n",
       "      <td>898</td>\n",
       "      <td>GO_(N:50,M:100,T1:0.5,T2:0.1,Cr:0.1,mult:6)</td>\n",
       "      <td>98</td>\n",
       "      <td>[0.0003689906739485302, 2.513305735450797e-06,...</td>\n",
       "      <td>-61.683913</td>\n",
       "      <td>inf</td>\n",
       "    </tr>\n",
       "    <tr>\n",
       "      <td>899</td>\n",
       "      <td>GO_(N:50,M:100,T1:0.5,T2:0.1,Cr:0.1,mult:6)</td>\n",
       "      <td>99</td>\n",
       "      <td>[1.987649769056742e-05, 0.0029747071761464907,...</td>\n",
       "      <td>-62.116490</td>\n",
       "      <td>inf</td>\n",
       "    </tr>\n",
       "  </tbody>\n",
       "</table>\n",
       "<p>4500 rows × 5 columns</p>\n",
       "</div>"
      ],
      "text/plain": [
       "                                            heur  run  \\\n",
       "0      GO_(N:50,M:150,T1:0.5,T2:0.1,Cr:1,mult:1)    0   \n",
       "1      GO_(N:50,M:150,T1:0.5,T2:0.1,Cr:1,mult:1)    1   \n",
       "2      GO_(N:50,M:150,T1:0.5,T2:0.1,Cr:1,mult:1)    2   \n",
       "3      GO_(N:50,M:150,T1:0.5,T2:0.1,Cr:1,mult:1)    3   \n",
       "4      GO_(N:50,M:150,T1:0.5,T2:0.1,Cr:1,mult:1)    4   \n",
       "..                                           ...  ...   \n",
       "895  GO_(N:50,M:100,T1:0.5,T2:0.1,Cr:0.1,mult:6)   95   \n",
       "896  GO_(N:50,M:100,T1:0.5,T2:0.1,Cr:0.1,mult:6)   96   \n",
       "897  GO_(N:50,M:100,T1:0.5,T2:0.1,Cr:0.1,mult:6)   97   \n",
       "898  GO_(N:50,M:100,T1:0.5,T2:0.1,Cr:0.1,mult:6)   98   \n",
       "899  GO_(N:50,M:100,T1:0.5,T2:0.1,Cr:0.1,mult:6)   99   \n",
       "\n",
       "                                                best_x     best_y  neval  \n",
       "0    [0.002024563777743476, 0.002320444609727397, 0... -55.695100    inf  \n",
       "1    [0.022877889183504647, 0.0003384486144899199, ... -50.203711    inf  \n",
       "2    [0.0004711829818056682, 0.009003797072664091, ... -50.458681    inf  \n",
       "3    [0.000599930511894724, 0.0007085135841716023, ... -59.664381    inf  \n",
       "4    [0.0043624286420911726, 0.0017461739783471116,... -58.483767    inf  \n",
       "..                                                 ...        ...    ...  \n",
       "895  [3.190228284684756e-05, 2.349436590700957e-06,... -63.927771  469.0  \n",
       "896  [0.0014437370953422311, 0.00335715191664135, 0... -59.974166    inf  \n",
       "897  [0.00029455357340046044, 0.0041182669619689955... -58.188894    inf  \n",
       "898  [0.0003689906739485302, 2.513305735450797e-06,... -61.683913    inf  \n",
       "899  [1.987649769056742e-05, 0.0029747071761464907,... -62.116490    inf  \n",
       "\n",
       "[4500 rows x 5 columns]"
      ]
     },
     "execution_count": 92,
     "metadata": {},
     "output_type": "execute_result"
    }
   ],
   "source": [
    "results"
   ]
  },
  {
   "cell_type": "code",
   "execution_count": 96,
   "metadata": {},
   "outputs": [
    {
     "data": {
      "application/vnd.jupyter.widget-view+json": {
       "model_id": "f36ae0ef214a4ffd9165a3c1afdd87a6",
       "version_major": 2,
       "version_minor": 0
      },
      "text/plain": [
       "HBox(children=(IntProgress(value=0, description='Testing RS_1000', style=ProgressStyle(description_width='init…"
      ]
     },
     "metadata": {},
     "output_type": "display_data"
    },
    {
     "name": "stdout",
     "output_type": "stream",
     "text": [
      "\n"
     ]
    }
   ],
   "source": [
    "results = pd.DataFrame()\n",
    "runs = []\n",
    "heur_name = 'RS_{}'.format(maxeval)\n",
    "for i in tqdm(range(NUM_RUNS), 'Testing {}'.format(heur_name)):\n",
    "    run = ShootAndGo(prob, maxeval, 0).search()\n",
    "    run['run'] = i\n",
    "    run['heur'] = heur_name\n",
    "    runs.append(run)\n",
    "    \n",
    "res_df = pd.DataFrame(runs, columns=['heur', 'run', 'best_x', 'best_y', 'neval'])\n",
    "results = pd.concat([results, res_df], axis=0)"
   ]
  },
  {
   "cell_type": "code",
   "execution_count": 97,
   "metadata": {},
   "outputs": [
    {
     "data": {
      "text/html": [
       "<div>\n",
       "<style scoped>\n",
       "    .dataframe tbody tr th:only-of-type {\n",
       "        vertical-align: middle;\n",
       "    }\n",
       "\n",
       "    .dataframe tbody tr th {\n",
       "        vertical-align: top;\n",
       "    }\n",
       "\n",
       "    .dataframe thead th {\n",
       "        text-align: right;\n",
       "    }\n",
       "</style>\n",
       "<table border=\"1\" class=\"dataframe\">\n",
       "  <thead>\n",
       "    <tr style=\"text-align: right;\">\n",
       "      <th></th>\n",
       "      <th>heur</th>\n",
       "      <th>rel</th>\n",
       "    </tr>\n",
       "  </thead>\n",
       "  <tbody>\n",
       "    <tr>\n",
       "      <td>0</td>\n",
       "      <td>RS_1000</td>\n",
       "      <td>0.0</td>\n",
       "    </tr>\n",
       "  </tbody>\n",
       "</table>\n",
       "</div>"
      ],
      "text/plain": [
       "      heur  rel\n",
       "0  RS_1000  0.0"
      ]
     },
     "execution_count": 97,
     "metadata": {},
     "output_type": "execute_result"
    }
   ],
   "source": [
    "results_pivot = results.pivot_table(\n",
    "    index=['heur'],\n",
    "    values=['neval'],\n",
    "    aggfunc=(rel, mne, feo)\n",
    ")['neval']\n",
    "results_pivot = results_pivot.reset_index()\n",
    "results_pivot.sort_values(by='rel')"
   ]
  },
  {
   "cell_type": "code",
   "execution_count": 37,
   "metadata": {},
   "outputs": [
    {
     "data": {
      "text/html": [
       "<div>\n",
       "<style scoped>\n",
       "    .dataframe tbody tr th:only-of-type {\n",
       "        vertical-align: middle;\n",
       "    }\n",
       "\n",
       "    .dataframe tbody tr th {\n",
       "        vertical-align: top;\n",
       "    }\n",
       "\n",
       "    .dataframe thead th {\n",
       "        text-align: right;\n",
       "    }\n",
       "</style>\n",
       "<table border=\"1\" class=\"dataframe\">\n",
       "  <thead>\n",
       "    <tr style=\"text-align: right;\">\n",
       "      <th></th>\n",
       "      <th>heur</th>\n",
       "      <th>run</th>\n",
       "      <th>best_x</th>\n",
       "      <th>best_y</th>\n",
       "      <th>neval</th>\n",
       "    </tr>\n",
       "  </thead>\n",
       "  <tbody>\n",
       "    <tr>\n",
       "      <td>0</td>\n",
       "      <td>RS_1000</td>\n",
       "      <td>0</td>\n",
       "      <td>[0.00867089370207187, 0.026735886059785184, 0....</td>\n",
       "      <td>-10.689130</td>\n",
       "      <td>inf</td>\n",
       "    </tr>\n",
       "    <tr>\n",
       "      <td>1</td>\n",
       "      <td>RS_1000</td>\n",
       "      <td>1</td>\n",
       "      <td>[0.003490953454284475, 0.01961330975456638, 0....</td>\n",
       "      <td>-9.678849</td>\n",
       "      <td>inf</td>\n",
       "    </tr>\n",
       "    <tr>\n",
       "      <td>2</td>\n",
       "      <td>RS_1000</td>\n",
       "      <td>2</td>\n",
       "      <td>[0.010253162089480444, 0.00022319151000462333,...</td>\n",
       "      <td>-7.822195</td>\n",
       "      <td>inf</td>\n",
       "    </tr>\n",
       "    <tr>\n",
       "      <td>3</td>\n",
       "      <td>RS_1000</td>\n",
       "      <td>3</td>\n",
       "      <td>[0.004529077301825218, 0.01391902615734935, 0....</td>\n",
       "      <td>-10.951545</td>\n",
       "      <td>inf</td>\n",
       "    </tr>\n",
       "    <tr>\n",
       "      <td>4</td>\n",
       "      <td>RS_1000</td>\n",
       "      <td>4</td>\n",
       "      <td>[1.852992791394559e-05, 0.02214038784666697, 0...</td>\n",
       "      <td>-14.155273</td>\n",
       "      <td>inf</td>\n",
       "    </tr>\n",
       "    <tr>\n",
       "      <td>...</td>\n",
       "      <td>...</td>\n",
       "      <td>...</td>\n",
       "      <td>...</td>\n",
       "      <td>...</td>\n",
       "      <td>...</td>\n",
       "    </tr>\n",
       "    <tr>\n",
       "      <td>95</td>\n",
       "      <td>RS_1000</td>\n",
       "      <td>95</td>\n",
       "      <td>[0.0018124816858236688, 0.009304587624876987, ...</td>\n",
       "      <td>-13.897424</td>\n",
       "      <td>inf</td>\n",
       "    </tr>\n",
       "    <tr>\n",
       "      <td>96</td>\n",
       "      <td>RS_1000</td>\n",
       "      <td>96</td>\n",
       "      <td>[0.002138686821887219, 0.006671157896134468, 0...</td>\n",
       "      <td>-11.109723</td>\n",
       "      <td>inf</td>\n",
       "    </tr>\n",
       "    <tr>\n",
       "      <td>97</td>\n",
       "      <td>RS_1000</td>\n",
       "      <td>97</td>\n",
       "      <td>[0.001658941969327655, 0.01213691953299604, 0....</td>\n",
       "      <td>-8.721048</td>\n",
       "      <td>inf</td>\n",
       "    </tr>\n",
       "    <tr>\n",
       "      <td>98</td>\n",
       "      <td>RS_1000</td>\n",
       "      <td>98</td>\n",
       "      <td>[0.0004240660667485522, 0.0027010988180098186,...</td>\n",
       "      <td>-11.531816</td>\n",
       "      <td>inf</td>\n",
       "    </tr>\n",
       "    <tr>\n",
       "      <td>99</td>\n",
       "      <td>RS_1000</td>\n",
       "      <td>99</td>\n",
       "      <td>[0.008683267783132241, 0.0008165155811627646, ...</td>\n",
       "      <td>-7.958280</td>\n",
       "      <td>inf</td>\n",
       "    </tr>\n",
       "  </tbody>\n",
       "</table>\n",
       "<p>100 rows × 5 columns</p>\n",
       "</div>"
      ],
      "text/plain": [
       "       heur  run                                             best_x  \\\n",
       "0   RS_1000    0  [0.00867089370207187, 0.026735886059785184, 0....   \n",
       "1   RS_1000    1  [0.003490953454284475, 0.01961330975456638, 0....   \n",
       "2   RS_1000    2  [0.010253162089480444, 0.00022319151000462333,...   \n",
       "3   RS_1000    3  [0.004529077301825218, 0.01391902615734935, 0....   \n",
       "4   RS_1000    4  [1.852992791394559e-05, 0.02214038784666697, 0...   \n",
       "..      ...  ...                                                ...   \n",
       "95  RS_1000   95  [0.0018124816858236688, 0.009304587624876987, ...   \n",
       "96  RS_1000   96  [0.002138686821887219, 0.006671157896134468, 0...   \n",
       "97  RS_1000   97  [0.001658941969327655, 0.01213691953299604, 0....   \n",
       "98  RS_1000   98  [0.0004240660667485522, 0.0027010988180098186,...   \n",
       "99  RS_1000   99  [0.008683267783132241, 0.0008165155811627646, ...   \n",
       "\n",
       "       best_y  neval  \n",
       "0  -10.689130    inf  \n",
       "1   -9.678849    inf  \n",
       "2   -7.822195    inf  \n",
       "3  -10.951545    inf  \n",
       "4  -14.155273    inf  \n",
       "..        ...    ...  \n",
       "95 -13.897424    inf  \n",
       "96 -11.109723    inf  \n",
       "97  -8.721048    inf  \n",
       "98 -11.531816    inf  \n",
       "99  -7.958280    inf  \n",
       "\n",
       "[100 rows x 5 columns]"
      ]
     },
     "execution_count": 37,
     "metadata": {},
     "output_type": "execute_result"
    }
   ],
   "source": [
    "results"
   ]
  },
  {
   "cell_type": "code",
   "execution_count": null,
   "metadata": {},
   "outputs": [],
   "source": []
  }
 ],
 "metadata": {
  "kernelspec": {
   "display_name": "Python 3",
   "language": "python",
   "name": "python3"
  },
  "language_info": {
   "codemirror_mode": {
    "name": "ipython",
    "version": 3
   },
   "file_extension": ".py",
   "mimetype": "text/x-python",
   "name": "python",
   "nbconvert_exporter": "python",
   "pygments_lexer": "ipython3",
   "version": "3.7.4"
  }
 },
 "nbformat": 4,
 "nbformat_minor": 2
}
